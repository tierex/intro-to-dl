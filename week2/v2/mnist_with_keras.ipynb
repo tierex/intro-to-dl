{
 "cells": [
  {
   "cell_type": "markdown",
   "metadata": {
    "slideshow": {
     "slide_type": "slide"
    }
   },
   "source": [
    "# MNIST digits classification with Keras\n",
    "\n",
    "We don't expect you to code anything here because you've already solved it with TensorFlow.\n",
    "\n",
    "But you can appreciate how simpler it is with Keras.\n",
    "\n",
    "We'll be happy if you play around with the architecture though, there're some tips at the end."
   ]
  },
  {
   "cell_type": "markdown",
   "metadata": {},
   "source": [
    "<img src=\"images/mnist_sample.png\" style=\"width:30%\">"
   ]
  },
  {
   "cell_type": "code",
   "execution_count": 12,
   "metadata": {},
   "outputs": [
    {
     "name": "stdout",
     "output_type": "stream",
     "text": [
      "We're using TF 1.10.0\n",
      "We are using Keras 2.2.4\n"
     ]
    }
   ],
   "source": [
    "import numpy as np\n",
    "from sklearn.metrics import accuracy_score\n",
    "from matplotlib import pyplot as plt\n",
    "%matplotlib inline\n",
    "import tensorflow as tf\n",
    "print(\"We're using TF\", tf.__version__)\n",
    "import keras\n",
    "print(\"We are using Keras\", keras.__version__)\n",
    "\n",
    "import sys\n",
    "sys.path.append(\"../..\")\n",
    "import keras_utils\n",
    "from keras_utils import reset_tf_session"
   ]
  },
  {
   "cell_type": "markdown",
   "metadata": {},
   "source": [
    "# Look at the data\n",
    "\n",
    "In this task we have 50000 28x28 images of digits from 0 to 9.\n",
    "We will train a classifier on this data."
   ]
  },
  {
   "cell_type": "code",
   "execution_count": 13,
   "metadata": {},
   "outputs": [],
   "source": [
    "import preprocessed_mnist\n",
    "X_train, y_train, X_val, y_val, X_test, y_test = preprocessed_mnist.load_dataset()"
   ]
  },
  {
   "cell_type": "code",
   "execution_count": 14,
   "metadata": {},
   "outputs": [
    {
     "name": "stdout",
     "output_type": "stream",
     "text": [
      "X_train [shape (50000, 28, 28)] sample patch:\n",
      " [[0.         0.29803922 0.96470588 0.98823529 0.43921569]\n",
      " [0.         0.33333333 0.98823529 0.90196078 0.09803922]\n",
      " [0.         0.33333333 0.98823529 0.8745098  0.        ]\n",
      " [0.         0.33333333 0.98823529 0.56862745 0.        ]\n",
      " [0.         0.3372549  0.99215686 0.88235294 0.        ]]\n",
      "A closeup of a sample patch:\n"
     ]
    },
    {
     "data": {
      "image/png": "[encoded data removed]",
      "text/plain": [
       "<Figure size 432x288 with 1 Axes>"
      ]
     },
     "metadata": {
      "needs_background": "light"
     },
     "output_type": "display_data"
    },
    {
     "name": "stdout",
     "output_type": "stream",
     "text": [
      "And the whole sample:\n"
     ]
    },
    {
     "data": {
      "image/png": "[encoded data removed]",
      "text/plain": [
       "<Figure size 432x288 with 1 Axes>"
      ]
     },
     "metadata": {
      "needs_background": "light"
     },
     "output_type": "display_data"
    },
    {
     "name": "stdout",
     "output_type": "stream",
     "text": [
      "y_train [shape (50000,)] 10 samples:\n",
      " [5 0 4 1 9 2 1 3 1 4]\n"
     ]
    }
   ],
   "source": [
    "# X contains rgb values divided by 255\n",
    "print(\"X_train [shape %s] sample patch:\\n\" % (str(X_train.shape)), X_train[1, 15:20, 5:10])\n",
    "print(\"A closeup of a sample patch:\")\n",
    "plt.imshow(X_train[1, 15:20, 5:10], cmap=\"Greys\")\n",
    "plt.show()\n",
    "print(\"And the whole sample:\")\n",
    "plt.imshow(X_train[1], cmap=\"Greys\")\n",
    "plt.show()\n",
    "print(\"y_train [shape %s] 10 samples:\\n\" % (str(y_train.shape)), y_train[:10])"
   ]
  },
  {
   "cell_type": "code",
   "execution_count": 15,
   "metadata": {},
   "outputs": [
    {
     "name": "stdout",
     "output_type": "stream",
     "text": [
      "(50000, 784)\n",
      "(10000, 784)\n"
     ]
    }
   ],
   "source": [
    "# flatten images\n",
    "X_train_flat = X_train.reshape((X_train.shape[0], -1))\n",
    "print(X_train_flat.shape)\n",
    "\n",
    "X_val_flat = X_val.reshape((X_val.shape[0], -1))\n",
    "print(X_val_flat.shape)"
   ]
  },
  {
   "cell_type": "code",
   "execution_count": 95,
   "metadata": {},
   "outputs": [
    {
     "name": "stdout",
     "output_type": "stream",
     "text": [
      "(50000, 28, 28, 1)\n"
     ]
    }
   ],
   "source": [
    "X_train_conv = np.expand_dims(X_train,axis=3)\n",
    "print(X_train_conv.shape)"
   ]
  },
  {
   "cell_type": "code",
   "execution_count": 16,
   "metadata": {},
   "outputs": [
    {
     "name": "stdout",
     "output_type": "stream",
     "text": [
      "(50000, 10)\n",
      "[[0. 0. 0. 0. 0. 1. 0. 0. 0. 0.]\n",
      " [1. 0. 0. 0. 0. 0. 0. 0. 0. 0.]\n",
      " [0. 0. 0. 0. 1. 0. 0. 0. 0. 0.]] [5 0 4]\n"
     ]
    }
   ],
   "source": [
    "# one-hot encode the target\n",
    "y_train_oh = keras.utils.to_categorical(y_train, 10)\n",
    "y_val_oh = keras.utils.to_categorical(y_val, 10)\n",
    "\n",
    "print(y_train_oh.shape)\n",
    "print(y_train_oh[:3], y_train[:3])"
   ]
  },
  {
   "cell_type": "code",
   "execution_count": 76,
   "metadata": {},
   "outputs": [
    {
     "name": "stdout",
     "output_type": "stream",
     "text": [
      "(50000, 300)\n"
     ]
    }
   ],
   "source": [
    "# building a model with keras\n",
    "from keras.layers import Dense, Activation, Input\n",
    "from keras.models import Sequential\n",
    "\n",
    "# we still need to clear a graph though\n",
    "s = reset_tf_session()\n",
    "\n",
    "model = Sequential()  # it is a feed-forward network without loops like in RNN\n",
    "model.add(Dense(300, input_shape=(784,)))  # the first layer must specify the input shape (replacing placeholders)\n",
    "model.add(Activation('tanh'))\n",
    "model.add(Dense(256))\n",
    "model.add(Activation('tanh'))\n",
    "model.add(Dense(10))\n",
    "model.add(Activation('softmax'))\n",
    "\n",
    "# now we \"compile\" the model specifying the loss and optimizer\n",
    "model.compile(\n",
    "    loss='categorical_crossentropy', # this is our cross-entropy\n",
    "    optimizer='adam',\n",
    "    metrics=['accuracy']  # report accuracy during training\n",
    ")\n",
    "\n",
    "from keras import backend as K\n",
    "fun = K.function([model.layers[0].input],[model.layers[0].output])\n",
    "\n",
    "x_inp = X_train_flat\n",
    "layer_output = fun([x_inp])[0]\n",
    "\n",
    "print(layer_output.shape)"
   ]
  },
  {
   "cell_type": "code",
   "execution_count": 97,
   "metadata": {},
   "outputs": [
    {
     "name": "stdout",
     "output_type": "stream",
     "text": [
      "(50000, 26, 26, 16)\n"
     ]
    }
   ],
   "source": [
    "# building a model with keras\n",
    "from keras.layers import Dense, Activation, Input, Conv2D\n",
    "from keras.models import Sequential\n",
    "\n",
    "# we still need to clear a graph though\n",
    "s = reset_tf_session()\n",
    "\n",
    "model = Sequential()  # it is a feed-forward network without loops like in RNN\n",
    "model.add(Conv2D(16, (3,3), activation = 'relu', input_shape=(28,28,1)))\n",
    "# model.add(Dense(300, input_shape=(784,)))  # the first layer must specify the input shape (replacing placeholders)\n",
    "# model.add(Activation('tanh'))\n",
    "# model.add(Dense(256))\n",
    "# model.add(Activation('tanh'))\n",
    "# model.add(Dense(10))\n",
    "# model.add(Activation('softmax'))\n",
    "\n",
    "# now we \"compile\" the model specifying the loss and optimizer\n",
    "# model.compile(\n",
    "#     loss='categorical_crossentropy', # this is our cross-entropy\n",
    "#     optimizer='adam',\n",
    "#     metrics=['accuracy']  # report accuracy during training\n",
    "# )\n",
    "\n",
    "from keras import backend as K\n",
    "fun = K.function([model.layers[0].input],[model.layers[0].output])\n",
    "\n",
    "x_inp = X_train_conv\n",
    "layer_output = fun([x_inp])[0]\n",
    "\n",
    "print(layer_output.shape)"
   ]
  },
  {
   "cell_type": "code",
   "execution_count": 93,
   "metadata": {},
   "outputs": [],
   "source": [
    "??keras.layers.Conv2D"
   ]
  },
  {
   "cell_type": "code",
   "execution_count": 36,
   "metadata": {},
   "outputs": [
    {
     "name": "stdout",
     "output_type": "stream",
     "text": [
      "_________________________________________________________________\n",
      "Layer (type)                 Output Shape              Param #   \n",
      "=================================================================\n",
      "dense_1 (Dense)              (None, 256)               200960    \n",
      "_________________________________________________________________\n",
      "activation_1 (Activation)    (None, 256)               0         \n",
      "_________________________________________________________________\n",
      "dense_2 (Dense)              (None, 256)               65792     \n",
      "_________________________________________________________________\n",
      "activation_2 (Activation)    (None, 256)               0         \n",
      "_________________________________________________________________\n",
      "dense_3 (Dense)              (None, 10)                2570      \n",
      "_________________________________________________________________\n",
      "activation_3 (Activation)    (None, 10)                0         \n",
      "=================================================================\n",
      "Total params: 269,322\n",
      "Trainable params: 269,322\n",
      "Non-trainable params: 0\n",
      "_________________________________________________________________\n"
     ]
    }
   ],
   "source": [
    "# you can look at all layers and parameter count\n",
    "model.summary()"
   ]
  },
  {
   "cell_type": "code",
   "execution_count": 60,
   "metadata": {},
   "outputs": [
    {
     "ename": "TypeError",
     "evalue": "Cannot interpret feed_dict key as Tensor: Can not convert a method into a Tensor.",
     "output_type": "error",
     "traceback": [
      "\u001b[0;31m---------------------------------------------------------------------------\u001b[0m",
      "\u001b[0;31mTypeError\u001b[0m                                 Traceback (most recent call last)",
      "\u001b[0;32m~/anaconda3/envs/python3_rl/lib/python3.6/site-packages/tensorflow/python/client/session.py\u001b[0m in \u001b[0;36m_run\u001b[0;34m(self, handle, fetches, feed_dict, options, run_metadata)\u001b[0m\n\u001b[1;32m   1039\u001b[0m             subfeed_t = self.graph.as_graph_element(\n\u001b[0;32m-> 1040\u001b[0;31m                 subfeed, allow_tensor=True, allow_operation=False)\n\u001b[0m\u001b[1;32m   1041\u001b[0m           \u001b[0;32mexcept\u001b[0m \u001b[0mException\u001b[0m \u001b[0;32mas\u001b[0m \u001b[0me\u001b[0m\u001b[0;34m:\u001b[0m\u001b[0;34m\u001b[0m\u001b[0m\n",
      "\u001b[0;32m~/anaconda3/envs/python3_rl/lib/python3.6/site-packages/tensorflow/python/framework/ops.py\u001b[0m in \u001b[0;36mas_graph_element\u001b[0;34m(self, obj, allow_tensor, allow_operation)\u001b[0m\n\u001b[1;32m   3338\u001b[0m     \u001b[0;32mwith\u001b[0m \u001b[0mself\u001b[0m\u001b[0;34m.\u001b[0m\u001b[0m_lock\u001b[0m\u001b[0;34m:\u001b[0m\u001b[0;34m\u001b[0m\u001b[0m\n\u001b[0;32m-> 3339\u001b[0;31m       \u001b[0;32mreturn\u001b[0m \u001b[0mself\u001b[0m\u001b[0;34m.\u001b[0m\u001b[0m_as_graph_element_locked\u001b[0m\u001b[0;34m(\u001b[0m\u001b[0mobj\u001b[0m\u001b[0;34m,\u001b[0m \u001b[0mallow_tensor\u001b[0m\u001b[0;34m,\u001b[0m \u001b[0mallow_operation\u001b[0m\u001b[0;34m)\u001b[0m\u001b[0;34m\u001b[0m\u001b[0m\n\u001b[0m\u001b[1;32m   3340\u001b[0m \u001b[0;34m\u001b[0m\u001b[0m\n",
      "\u001b[0;32m~/anaconda3/envs/python3_rl/lib/python3.6/site-packages/tensorflow/python/framework/ops.py\u001b[0m in \u001b[0;36m_as_graph_element_locked\u001b[0;34m(self, obj, allow_tensor, allow_operation)\u001b[0m\n\u001b[1;32m   3427\u001b[0m       raise TypeError(\"Can not convert a %s into a %s.\" % (type(obj).__name__,\n\u001b[0;32m-> 3428\u001b[0;31m                                                            types_str))\n\u001b[0m\u001b[1;32m   3429\u001b[0m \u001b[0;34m\u001b[0m\u001b[0m\n",
      "\u001b[0;31mTypeError\u001b[0m: Can not convert a method into a Tensor.",
      "\nDuring handling of the above exception, another exception occurred:\n",
      "\u001b[0;31mTypeError\u001b[0m                                 Traceback (most recent call last)",
      "\u001b[0;32m<ipython-input-60-3cbc7674668e>\u001b[0m in \u001b[0;36m<module>\u001b[0;34m\u001b[0m\n\u001b[1;32m      7\u001b[0m \u001b[0ms\u001b[0m\u001b[0;34m.\u001b[0m\u001b[0mrun\u001b[0m\u001b[0;34m(\u001b[0m\u001b[0mtf\u001b[0m\u001b[0;34m.\u001b[0m\u001b[0mglobal_variables_initializer\u001b[0m\u001b[0;34m(\u001b[0m\u001b[0;34m)\u001b[0m\u001b[0;34m)\u001b[0m\u001b[0;34m\u001b[0m\u001b[0m\n\u001b[1;32m      8\u001b[0m \u001b[0;34m\u001b[0m\u001b[0m\n\u001b[0;32m----> 9\u001b[0;31m \u001b[0ms\u001b[0m\u001b[0;34m.\u001b[0m\u001b[0mrun\u001b[0m\u001b[0;34m(\u001b[0m\u001b[0;34m[\u001b[0m\u001b[0my\u001b[0m\u001b[0;34m]\u001b[0m\u001b[0;34m,\u001b[0m\u001b[0;34m{\u001b[0m\u001b[0minput\u001b[0m\u001b[0;34m:\u001b[0m\u001b[0mX_train_flat\u001b[0m\u001b[0;34m}\u001b[0m\u001b[0;34m)\u001b[0m\u001b[0;34m\u001b[0m\u001b[0m\n\u001b[0m",
      "\u001b[0;32m~/anaconda3/envs/python3_rl/lib/python3.6/site-packages/tensorflow/python/client/session.py\u001b[0m in \u001b[0;36mrun\u001b[0;34m(self, fetches, feed_dict, options, run_metadata)\u001b[0m\n\u001b[1;32m    875\u001b[0m     \u001b[0;32mtry\u001b[0m\u001b[0;34m:\u001b[0m\u001b[0;34m\u001b[0m\u001b[0m\n\u001b[1;32m    876\u001b[0m       result = self._run(None, fetches, feed_dict, options_ptr,\n\u001b[0;32m--> 877\u001b[0;31m                          run_metadata_ptr)\n\u001b[0m\u001b[1;32m    878\u001b[0m       \u001b[0;32mif\u001b[0m \u001b[0mrun_metadata\u001b[0m\u001b[0;34m:\u001b[0m\u001b[0;34m\u001b[0m\u001b[0m\n\u001b[1;32m    879\u001b[0m         \u001b[0mproto_data\u001b[0m \u001b[0;34m=\u001b[0m \u001b[0mtf_session\u001b[0m\u001b[0;34m.\u001b[0m\u001b[0mTF_GetBuffer\u001b[0m\u001b[0;34m(\u001b[0m\u001b[0mrun_metadata_ptr\u001b[0m\u001b[0;34m)\u001b[0m\u001b[0;34m\u001b[0m\u001b[0m\n",
      "\u001b[0;32m~/anaconda3/envs/python3_rl/lib/python3.6/site-packages/tensorflow/python/client/session.py\u001b[0m in \u001b[0;36m_run\u001b[0;34m(self, handle, fetches, feed_dict, options, run_metadata)\u001b[0m\n\u001b[1;32m   1041\u001b[0m           \u001b[0;32mexcept\u001b[0m \u001b[0mException\u001b[0m \u001b[0;32mas\u001b[0m \u001b[0me\u001b[0m\u001b[0;34m:\u001b[0m\u001b[0;34m\u001b[0m\u001b[0m\n\u001b[1;32m   1042\u001b[0m             raise TypeError(\n\u001b[0;32m-> 1043\u001b[0;31m                 'Cannot interpret feed_dict key as Tensor: ' + e.args[0])\n\u001b[0m\u001b[1;32m   1044\u001b[0m \u001b[0;34m\u001b[0m\u001b[0m\n\u001b[1;32m   1045\u001b[0m           \u001b[0;32mif\u001b[0m \u001b[0misinstance\u001b[0m\u001b[0;34m(\u001b[0m\u001b[0msubfeed_val\u001b[0m\u001b[0;34m,\u001b[0m \u001b[0mops\u001b[0m\u001b[0;34m.\u001b[0m\u001b[0mTensor\u001b[0m\u001b[0;34m)\u001b[0m\u001b[0;34m:\u001b[0m\u001b[0;34m\u001b[0m\u001b[0m\n",
      "\u001b[0;31mTypeError\u001b[0m: Cannot interpret feed_dict key as Tensor: Can not convert a method into a Tensor."
     ]
    }
   ],
   "source": []
  },
  {
   "cell_type": "code",
   "execution_count": 27,
   "metadata": {},
   "outputs": [],
   "source": [
    "# now we \"compile\" the model specifying the loss and optimizer\n",
    "model.compile(\n",
    "    loss='categorical_crossentropy', # this is our cross-entropy\n",
    "    optimizer='adam',\n",
    "    metrics=['accuracy']  # report accuracy during training\n",
    ")"
   ]
  },
  {
   "cell_type": "code",
   "execution_count": 39,
   "metadata": {},
   "outputs": [],
   "source": [
    "??model.call"
   ]
  },
  {
   "cell_type": "code",
   "execution_count": 28,
   "metadata": {},
   "outputs": [
    {
     "name": "stdout",
     "output_type": "stream",
     "text": [
      "Train on 50000 samples, validate on 10000 samples\n",
      "Epoch 1/40\n",
      "50000/50000 [==============================] - 1s 21us/step - loss: 0.4446 - acc: 0.8725 - val_loss: 0.2425 - val_acc: 0.9320\n",
      "Epoch 2/40\n",
      "50000/50000 [==============================] - 1s 18us/step - loss: 0.2318 - acc: 0.9328 - val_loss: 0.1908 - val_acc: 0.9460\n",
      "Epoch 3/40\n",
      "50000/50000 [==============================] - 1s 18us/step - loss: 0.1752 - acc: 0.9492 - val_loss: 0.1505 - val_acc: 0.9582\n",
      "Epoch 4/40\n",
      "50000/50000 [==============================] - 1s 18us/step - loss: 0.1359 - acc: 0.9607 - val_loss: 0.1289 - val_acc: 0.9636\n",
      "Epoch 5/40\n",
      "50000/50000 [==============================] - 1s 18us/step - loss: 0.1103 - acc: 0.9678 - val_loss: 0.1140 - val_acc: 0.9674\n",
      "Epoch 6/40\n",
      "50000/50000 [==============================] - 1s 18us/step - loss: 0.0902 - acc: 0.9736 - val_loss: 0.1014 - val_acc: 0.9693\n",
      "Epoch 7/40\n",
      "50000/50000 [==============================] - 1s 18us/step - loss: 0.0764 - acc: 0.9773 - val_loss: 0.0983 - val_acc: 0.9711\n",
      "Epoch 8/40\n",
      "50000/50000 [==============================] - 1s 18us/step - loss: 0.0632 - acc: 0.9818 - val_loss: 0.0873 - val_acc: 0.9741\n",
      "Epoch 9/40\n",
      "50000/50000 [==============================] - 1s 18us/step - loss: 0.0526 - acc: 0.9850 - val_loss: 0.0888 - val_acc: 0.9712\n",
      "Epoch 10/40\n",
      "50000/50000 [==============================] - 1s 18us/step - loss: 0.0446 - acc: 0.9876 - val_loss: 0.0807 - val_acc: 0.9746\n",
      "Epoch 11/40\n",
      "50000/50000 [==============================] - 1s 18us/step - loss: 0.0377 - acc: 0.9894 - val_loss: 0.0775 - val_acc: 0.9753\n",
      "Epoch 12/40\n",
      "50000/50000 [==============================] - 1s 18us/step - loss: 0.0305 - acc: 0.9921 - val_loss: 0.0751 - val_acc: 0.9771\n",
      "Epoch 13/40\n",
      "50000/50000 [==============================] - 1s 19us/step - loss: 0.0264 - acc: 0.9935 - val_loss: 0.0752 - val_acc: 0.9761\n",
      "Epoch 14/40\n",
      "50000/50000 [==============================] - 1s 19us/step - loss: 0.0205 - acc: 0.9955 - val_loss: 0.0718 - val_acc: 0.9771\n",
      "Epoch 15/40\n",
      "50000/50000 [==============================] - 1s 19us/step - loss: 0.0169 - acc: 0.9967 - val_loss: 0.0793 - val_acc: 0.9749\n",
      "Epoch 16/40\n",
      "50000/50000 [==============================] - 1s 19us/step - loss: 0.0148 - acc: 0.9972 - val_loss: 0.0748 - val_acc: 0.9779\n",
      "Epoch 17/40\n",
      "50000/50000 [==============================] - 1s 19us/step - loss: 0.0115 - acc: 0.9983 - val_loss: 0.0776 - val_acc: 0.9767\n",
      "Epoch 18/40\n",
      "50000/50000 [==============================] - 1s 19us/step - loss: 0.0100 - acc: 0.9985 - val_loss: 0.0734 - val_acc: 0.9783\n",
      "Epoch 19/40\n",
      "50000/50000 [==============================] - 1s 19us/step - loss: 0.0083 - acc: 0.9988 - val_loss: 0.0748 - val_acc: 0.9775\n",
      "Epoch 20/40\n",
      "50000/50000 [==============================] - 1s 19us/step - loss: 0.0068 - acc: 0.9993 - val_loss: 0.0750 - val_acc: 0.9780\n",
      "Epoch 21/40\n",
      "50000/50000 [==============================] - 1s 19us/step - loss: 0.0054 - acc: 0.9996 - val_loss: 0.0748 - val_acc: 0.9792\n",
      "Epoch 22/40\n",
      "50000/50000 [==============================] - 1s 19us/step - loss: 0.0049 - acc: 0.9996 - val_loss: 0.0776 - val_acc: 0.9793\n",
      "Epoch 23/40\n",
      "50000/50000 [==============================] - 1s 19us/step - loss: 0.0036 - acc: 0.9999 - val_loss: 0.0756 - val_acc: 0.9797\n",
      "Epoch 24/40\n",
      "50000/50000 [==============================] - 1s 19us/step - loss: 0.0029 - acc: 0.9999 - val_loss: 0.0750 - val_acc: 0.9802\n",
      "Epoch 25/40\n",
      "50000/50000 [==============================] - 1s 19us/step - loss: 0.0024 - acc: 1.0000 - val_loss: 0.0761 - val_acc: 0.9798\n",
      "Epoch 26/40\n",
      "50000/50000 [==============================] - 1s 19us/step - loss: 0.0024 - acc: 0.9998 - val_loss: 0.0762 - val_acc: 0.9798\n",
      "Epoch 27/40\n",
      "50000/50000 [==============================] - 1s 19us/step - loss: 0.0018 - acc: 1.0000 - val_loss: 0.0771 - val_acc: 0.9792\n",
      "Epoch 28/40\n",
      "50000/50000 [==============================] - 1s 19us/step - loss: 0.0016 - acc: 1.0000 - val_loss: 0.0770 - val_acc: 0.9794\n",
      "Epoch 29/40\n",
      "50000/50000 [==============================] - 1s 19us/step - loss: 0.0014 - acc: 1.0000 - val_loss: 0.0789 - val_acc: 0.9801\n",
      "Epoch 30/40\n",
      "50000/50000 [==============================] - 1s 19us/step - loss: 0.0012 - acc: 1.0000 - val_loss: 0.0787 - val_acc: 0.9797\n",
      "Epoch 31/40\n",
      "50000/50000 [==============================] - 1s 18us/step - loss: 0.0011 - acc: 1.0000 - val_loss: 0.0807 - val_acc: 0.9794\n",
      "Epoch 32/40\n",
      "50000/50000 [==============================] - 1s 19us/step - loss: 0.0012 - acc: 1.0000 - val_loss: 0.0800 - val_acc: 0.9795\n",
      "Epoch 33/40\n",
      "50000/50000 [==============================] - 1s 19us/step - loss: 9.0961e-04 - acc: 1.0000 - val_loss: 0.0819 - val_acc: 0.9796\n",
      "Epoch 34/40\n",
      "50000/50000 [==============================] - 1s 19us/step - loss: 8.1828e-04 - acc: 1.0000 - val_loss: 0.0809 - val_acc: 0.9799\n",
      "Epoch 35/40\n",
      "50000/50000 [==============================] - 1s 19us/step - loss: 7.0571e-04 - acc: 1.0000 - val_loss: 0.0819 - val_acc: 0.9808\n",
      "Epoch 36/40\n",
      "50000/50000 [==============================] - 1s 19us/step - loss: 6.4024e-04 - acc: 1.0000 - val_loss: 0.0823 - val_acc: 0.9805\n",
      "Epoch 37/40\n",
      "50000/50000 [==============================] - 1s 18us/step - loss: 5.8051e-04 - acc: 1.0000 - val_loss: 0.0822 - val_acc: 0.9806\n",
      "Epoch 38/40\n",
      "50000/50000 [==============================] - 1s 19us/step - loss: 5.3493e-04 - acc: 1.0000 - val_loss: 0.0830 - val_acc: 0.9803\n",
      "Epoch 39/40\n",
      "50000/50000 [==============================] - 1s 19us/step - loss: 4.9415e-04 - acc: 1.0000 - val_loss: 0.0825 - val_acc: 0.9806\n",
      "Epoch 40/40\n",
      "50000/50000 [==============================] - 1s 18us/step - loss: 4.4563e-04 - acc: 1.0000 - val_loss: 0.0848 - val_acc: 0.9797\n"
     ]
    },
    {
     "data": {
      "text/plain": [
       "<keras.callbacks.History at 0x1a31c7a9e8>"
      ]
     },
     "execution_count": 28,
     "metadata": {},
     "output_type": "execute_result"
    }
   ],
   "source": [
    "# and now we can fit the model with model.fit()\n",
    "# and we don't have to write loops and batching manually as in TensorFlow\n",
    "model.fit(\n",
    "    X_train_flat, \n",
    "    y_train_oh,\n",
    "    batch_size=512, \n",
    "    epochs=40,\n",
    "    validation_data=(X_val_flat, y_val_oh),\n",
    "    verbose=1\n",
    ")"
   ]
  },
  {
   "cell_type": "markdown",
   "metadata": {},
   "source": [
    "# Here're the notes for those who want to play around here\n",
    "\n",
    "Here are some tips on what you could do:\n",
    "\n",
    " * __Network size__\n",
    "   * More neurons, \n",
    "   * More layers, ([docs](https://keras.io/))\n",
    "\n",
    "   * Other nonlinearities in the hidden layers\n",
    "     * tanh, relu, leaky relu, etc\n",
    "   * Larger networks may take more epochs to train, so don't discard your net just because it could didn't beat the baseline in 5 epochs.\n",
    "\n",
    "\n",
    " * __Early Stopping__\n",
    "   * Training for 100 epochs regardless of anything is probably a bad idea.\n",
    "   * Some networks converge over 5 epochs, others - over 500.\n",
    "   * Way to go: stop when validation score is 10 iterations past maximum\n",
    "     \n",
    "\n",
    " * __Faster optimization__\n",
    "   * rmsprop, nesterov_momentum, adam, adagrad and so on.\n",
    "     * Converge faster and sometimes reach better optima\n",
    "     * It might make sense to tweak learning rate/momentum, other learning parameters, batch size and number of epochs\n",
    "\n",
    "\n",
    " * __Regularize__ to prevent overfitting\n",
    "   * Add some L2 weight norm to the loss function, theano will do the rest\n",
    "     * Can be done manually or via - https://keras.io/regularizers/\n",
    "   \n",
    "   \n",
    " * __Data augmemntation__ - getting 5x as large dataset for free is a great deal\n",
    "   * https://keras.io/preprocessing/image/\n",
    "   * Zoom-in+slice = move\n",
    "   * Rotate+zoom(to remove black stripes)\n",
    "   * any other perturbations\n",
    "   * Simple way to do that (if you have PIL/Image): \n",
    "     * ```from scipy.misc import imrotate,imresize```\n",
    "     * and a few slicing\n",
    "   * Stay realistic. There's usually no point in flipping dogs upside down as that is not the way you usually see them."
   ]
  },
  {
   "cell_type": "code",
   "execution_count": null,
   "metadata": {},
   "outputs": [],
   "source": []
  }
 ],
 "metadata": {
  "kernelspec": {
   "display_name": "Python 3 rl",
   "language": "python",
   "name": "python3_rl"
  },
  "language_info": {
   "codemirror_mode": {
    "name": "ipython",
    "version": 3
   },
   "file_extension": ".py",
   "mimetype": "text/x-python",
   "name": "python",
   "nbconvert_exporter": "python",
   "pygments_lexer": "ipython3",
   "version": "3.6.6"
  }
 },
 "nbformat": 4,
 "nbformat_minor": 1
}
