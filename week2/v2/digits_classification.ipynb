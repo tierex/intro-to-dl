{
 "cells": [
  {
   "cell_type": "markdown",
   "metadata": {
    "slideshow": {
     "slide_type": "slide"
    }
   },
   "source": [
    "# MNIST digits classification with TensorFlow"
   ]
  },
  {
   "cell_type": "markdown",
   "metadata": {},
   "source": [
    "<img src=\"images/mnist_sample.png\" style=\"width:30%\">"
   ]
  },
  {
   "cell_type": "code",
   "execution_count": 1,
   "metadata": {},
   "outputs": [
    {
     "name": "stdout",
     "output_type": "stream",
     "text": [
      "We're using TF 1.10.0\n"
     ]
    },
    {
     "name": "stderr",
     "output_type": "stream",
     "text": [
      "Using TensorFlow backend.\n"
     ]
    }
   ],
   "source": [
    "import numpy as np\n",
    "from sklearn.metrics import accuracy_score\n",
    "from matplotlib import pyplot as plt\n",
    "%matplotlib inline\n",
    "import tensorflow as tf\n",
    "print(\"We're using TF\", tf.__version__)\n",
    "\n",
    "import sys\n",
    "sys.path.append(\"../..\")\n",
    "import grading\n",
    "\n",
    "import matplotlib_utils\n",
    "from importlib import reload\n",
    "reload(matplotlib_utils)\n",
    "\n",
    "import grading_utils\n",
    "reload(grading_utils)\n",
    "\n",
    "import keras_utils\n",
    "from keras_utils import reset_tf_session"
   ]
  },
  {
   "cell_type": "markdown",
   "metadata": {},
   "source": [
    "# Fill in your Coursera token and email\n",
    "To successfully submit your answers to our grader, please fill in your Coursera submission token and email"
   ]
  },
  {
   "cell_type": "code",
   "execution_count": null,
   "metadata": {},
   "outputs": [],
   "source": [
    "grader = grading.Grader(assignment_key=\"XtD7ho3TEeiHQBLWejjYAA\", \n",
    "                        all_parts=[\"9XaAS\", \"vmogZ\", \"RMv95\", \"i8bgs\", \"rE763\"])"
   ]
  },
  {
   "cell_type": "code",
   "execution_count": null,
   "metadata": {},
   "outputs": [],
   "source": []
  },
  {
   "cell_type": "markdown",
   "metadata": {},
   "source": [
    "# Look at the data\n",
    "\n",
    "In this task we have 50000 28x28 images of digits from 0 to 9.\n",
    "We will train a classifier on this data."
   ]
  },
  {
   "cell_type": "code",
   "execution_count": 2,
   "metadata": {},
   "outputs": [
    {
     "name": "stdout",
     "output_type": "stream",
     "text": [
      "Downloading data from https://s3.amazonaws.com/img-datasets/mnist.npz\n",
      "11493376/11490434 [==============================] - 3s 0us/step\n"
     ]
    }
   ],
   "source": [
    "import preprocessed_mnist\n",
    "X_train, y_train, X_val, y_val, X_test, y_test = preprocessed_mnist.load_dataset()"
   ]
  },
  {
   "cell_type": "code",
   "execution_count": 3,
   "metadata": {},
   "outputs": [
    {
     "name": "stdout",
     "output_type": "stream",
     "text": [
      "X_train [shape (50000, 28, 28)] sample patch:\n",
      " [[0.         0.29803922 0.96470588 0.98823529 0.43921569]\n",
      " [0.         0.33333333 0.98823529 0.90196078 0.09803922]\n",
      " [0.         0.33333333 0.98823529 0.8745098  0.        ]\n",
      " [0.         0.33333333 0.98823529 0.56862745 0.        ]\n",
      " [0.         0.3372549  0.99215686 0.88235294 0.        ]]\n",
      "A closeup of a sample patch:\n"
     ]
    },
    {
     "data": {
      "image/png": "[encoded data removed]",
      "text/plain": [
       "<Figure size 432x288 with 1 Axes>"
      ]
     },
     "metadata": {
      "needs_background": "light"
     },
     "output_type": "display_data"
    },
    {
     "name": "stdout",
     "output_type": "stream",
     "text": [
      "And the whole sample:\n"
     ]
    },
    {
     "data": {
      "image/png": "[encoded data removed]",
      "text/plain": [
       "<Figure size 432x288 with 1 Axes>"
      ]
     },
     "metadata": {
      "needs_background": "light"
     },
     "output_type": "display_data"
    },
    {
     "name": "stdout",
     "output_type": "stream",
     "text": [
      "y_train [shape (50000,)] 10 samples:\n",
      " [5 0 4 1 9 2 1 3 1 4]\n"
     ]
    }
   ],
   "source": [
    "# X contains rgb values divided by 255\n",
    "print(\"X_train [shape %s] sample patch:\\n\" % (str(X_train.shape)), X_train[1, 15:20, 5:10])\n",
    "print(\"A closeup of a sample patch:\")\n",
    "plt.imshow(X_train[1, 15:20, 5:10], cmap=\"Greys\")\n",
    "plt.show()\n",
    "print(\"And the whole sample:\")\n",
    "plt.imshow(X_train[1], cmap=\"Greys\")\n",
    "plt.show()\n",
    "print(\"y_train [shape %s] 10 samples:\\n\" % (str(y_train.shape)), y_train[:10])"
   ]
  },
  {
   "cell_type": "markdown",
   "metadata": {},
   "source": [
    "# Linear model\n",
    "\n",
    "Your task is to train a linear classifier $\\vec{x} \\rightarrow y$ with SGD using TensorFlow.\n",
    "\n",
    "You will need to calculate a logit (a linear transformation) $z_k$ for each class: \n",
    "$$z_k = \\vec{x} \\cdot \\vec{w_k} + b_k \\quad k = 0..9$$\n",
    "\n",
    "And transform logits $z_k$ to valid probabilities $p_k$ with softmax: \n",
    "$$p_k = \\frac{e^{z_k}}{\\sum_{i=0}^{9}{e^{z_i}}} \\quad k = 0..9$$\n",
    "\n",
    "We will use a cross-entropy loss to train our multi-class classifier:\n",
    "$$\\text{cross-entropy}(y, p) = -\\sum_{k=0}^{9}{\\log(p_k)[y = k]}$$ \n",
    "\n",
    "where \n",
    "$$\n",
    "[x]=\\begin{cases}\n",
    "       1, \\quad \\text{if $x$ is true} \\\\\n",
    "       0, \\quad \\text{otherwise}\n",
    "    \\end{cases}\n",
    "$$\n",
    "\n",
    "Cross-entropy minimization pushes $p_k$ close to 1 when $y = k$, which is what we want.\n",
    "\n",
    "Here's the plan:\n",
    "* Flatten the images (28x28 -> 784) with `X_train.reshape((X_train.shape[0], -1))` to simplify our linear model implementation\n",
    "* Use a matrix placeholder for flattened `X_train`\n",
    "* Convert `y_train` to one-hot encoded vectors that are needed for cross-entropy\n",
    "* Use a shared variable `W` for all weights (a column $\\vec{w_k}$ per class) and `b` for all biases.\n",
    "* Aim for ~0.93 validation accuracy"
   ]
  },
  {
   "cell_type": "code",
   "execution_count": 4,
   "metadata": {},
   "outputs": [
    {
     "name": "stdout",
     "output_type": "stream",
     "text": [
      "(50000, 784)\n",
      "(10000, 784)\n"
     ]
    }
   ],
   "source": [
    "X_train_flat = X_train.reshape((X_train.shape[0], -1))\n",
    "print(X_train_flat.shape)\n",
    "\n",
    "X_val_flat = X_val.reshape((X_val.shape[0], -1))\n",
    "print(X_val_flat.shape)"
   ]
  },
  {
   "cell_type": "code",
   "execution_count": 5,
   "metadata": {},
   "outputs": [
    {
     "name": "stdout",
     "output_type": "stream",
     "text": [
      "(50000, 10)\n",
      "[[0. 0. 0. 0. 0. 1. 0. 0. 0. 0.]\n",
      " [1. 0. 0. 0. 0. 0. 0. 0. 0. 0.]\n",
      " [0. 0. 0. 0. 1. 0. 0. 0. 0. 0.]] [5 0 4]\n"
     ]
    }
   ],
   "source": [
    "import keras\n",
    "\n",
    "y_train_oh = keras.utils.to_categorical(y_train, 10)\n",
    "y_val_oh = keras.utils.to_categorical(y_val, 10)\n",
    "\n",
    "print(y_train_oh.shape)\n",
    "print(y_train_oh[:3], y_train[:3])"
   ]
  },
  {
   "cell_type": "code",
   "execution_count": 13,
   "metadata": {},
   "outputs": [],
   "source": []
  },
  {
   "cell_type": "code",
   "execution_count": null,
   "metadata": {},
   "outputs": [],
   "source": []
  },
  {
   "cell_type": "code",
   "execution_count": 102,
   "metadata": {},
   "outputs": [],
   "source": [
    "# run this again if you remake your graph\n",
    "s = reset_tf_session()\n",
    "\n",
    "# Model parameters: W and b\n",
    "W = tf.get_variable(name='w', shape=(784,10))### YOUR CODE HERE ### tf.get_variable(...) with shape[0] = 784\n",
    "b = tf.get_variable(name='b', shape=(10))### YOUR CODE HERE ### tf.get_variable(...)"
   ]
  },
  {
   "cell_type": "code",
   "execution_count": null,
   "metadata": {},
   "outputs": [],
   "source": []
  },
  {
   "cell_type": "code",
   "execution_count": 103,
   "metadata": {},
   "outputs": [],
   "source": [
    "# Placeholders for the input data\n",
    "input_X = tf.placeholder(name='x', shape=(None, 784), dtype = tf.float32)### YOUR CODE HERE ### tf.placeholder(...) for flat X with shape[0] = None for any batch size\n",
    "input_y = tf.placeholder(name='y', shape=(None, 10),  dtype = tf.float32)### YOUR CODE HERE ### tf.placeholder(...) for one-hot encoded true labels"
   ]
  },
  {
   "cell_type": "code",
   "execution_count": 104,
   "metadata": {},
   "outputs": [],
   "source": [
    "# Compute predictions\n",
    "logits = tf.matmul(input_X, W) + b ### YOUR CODE HERE ### logits for input_X, resulting shape should be [input_X.shape[0], 10]\n",
    "probas = tf.nn.softmax(logits)### YOUR CODE HERE ### apply tf.nn.softmax to logits\n",
    "classes = tf.argmax(probas, axis = 1) ### YOUR CODE HERE ### apply tf.argmax to find a class index with highest probability\n",
    "\n",
    "# # Loss should be a scalar number: average loss over all the objects with tf.reduce_mean().\n",
    "# # Use tf.nn.softmax_cross_entropy_with_logits on top of one-hot encoded input_y and logits.\n",
    "# # It is identical to calculating cross-entropy on top of probas, but is more numerically friendly (read the docs).\n",
    "loss = tf.reduce_mean(tf.nn.softmax_cross_entropy_with_logits_v2(logits = logits, labels = input_y)) ### YOUR CODE HERE ### cross-entropy loss\n",
    "\n",
    "# # Use a default tf.train.AdamOptimizer to get an SGD step\n",
    "step = tf.train.AdamOptimizer(learning_rate= 0.001).minimize(loss) ### YOUR CODE HERE ### optimizer step that minimizes the loss"
   ]
  },
  {
   "cell_type": "code",
   "execution_count": 99,
   "metadata": {},
   "outputs": [],
   "source": [
    "??tf.nn.softmax_cross_entropy_with_logits_v2"
   ]
  },
  {
   "cell_type": "code",
   "execution_count": 97,
   "metadata": {},
   "outputs": [
    {
     "name": "stdout",
     "output_type": "stream",
     "text": [
      "(512, 10)\n",
      "()\n",
      "None\n"
     ]
    }
   ],
   "source": [
    "s.run(tf.global_variables_initializer())\n",
    "BATCH_SIZE = 512\n",
    "train_batch = X_train_flat[0:BATCH_SIZE]\n",
    "train_labels = y_train_oh[0:BATCH_SIZE]\n",
    "\n",
    "step_res, loss_res, classes_res, logits_res, probas_res = s.run([step, loss, classes, probas,logits], {input_X: train_batch, input_y: train_labels})\n",
    "logits_res = np.array(logits_res)\n",
    "probas_res = np.array(probas_res)\n",
    "print(logits_res.shape)\n",
    "print(loss_res.shape)\n",
    "print(step_res)\n"
   ]
  },
  {
   "cell_type": "code",
   "execution_count": 109,
   "metadata": {
    "scrolled": false
   },
   "outputs": [
    {
     "data": {
      "text/html": [
       "<img src=\"data:image/jpeg;base64,/9j/4AAQSkZJRgABAQEASABIAAD/2wBDAAIBAQEBAQIBAQECAgICAgQDAgICAgUEBAMEBgUGBgYFBgYGBwkIBgcJBwYGCAsICQoKCgoKBggLDAsKDAkKCgr/2wBDAQICAgICAgUDAwUKBwYHCgoKCgoKCgoKCgoKCgoKCgoKCgoKCgoKCgoKCgoKCgoKCgoKCgoKCgoKCgoKCgoKCgr/wAARCAEgA2ADASIAAhEBAxEB/8QAHwAAAQUBAQEBAQEAAAAAAAAAAAECAwQFBgcICQoL/8QAtRAAAgEDAwIEAwUFBAQAAAF9AQIDAAQRBRIhMUEGE1FhByJxFDKBkaEII0KxwRVS0fAkM2JyggkKFhcYGRolJicoKSo0NTY3ODk6Q0RFRkdISUpTVFVWV1hZWmNkZWZnaGlqc3R1dnd4eXqDhIWGh4iJipKTlJWWl5iZmqKjpKWmp6ipqrKztLW2t7i5usLDxMXGx8jJytLT1NXW19jZ2uHi4%2BTl5ufo6erx8vP09fb3%2BPn6/8QAHwEAAwEBAQEBAQEBAQAAAAAAAAECAwQFBgcICQoL/8QAtREAAgECBAQDBAcFBAQAAQJ3AAECAxEEBSExBhJBUQdhcRMiMoEIFEKRobHBCSMzUvAVYnLRChYkNOEl8RcYGRomJygpKjU2Nzg5OkNERUZHSElKU1RVVldYWVpjZGVmZ2hpanN0dXZ3eHl6goOEhYaHiImKkpOUlZaXmJmaoqOkpaanqKmqsrO0tba3uLm6wsPExcbHyMnK0tPU1dbX2Nna4uPk5ebn6Onq8vP09fb3%2BPn6/9oADAMBAAIRAxEAPwD9/KKKKACiiigAooooAKKKKACiiigAooooAKKKKACiiigAooooAKKKKACiiigAooooAKKKKACiiigAooooAKKKKACiiigAooooAKKKKACiiigAooooAKKKKACiiigAooooAKKKKACiiigAooooAKKKKACiiigAooooAKKKKACiiigAooooAKKKKACiiigAooooAKKKKACiiigAooooAKKKKACiiigAooooAKKKKACiiigAooooAKKKKACiiigAooooAKKKKACiiigAooooAKKKKACiiigAooooAKKKKACiiigAooooAKKKKACiiigAooooAKKKKACiiigAooooAKKKKACiiigAooooAKKKKACvPfjt%2B1J8FP2b5NGsfil4g1Maj4ilnTQNB8OeF9R1zVNR8lVed4bHTbee5kjiVkMkixlI96biu5c%2BhV4N%2B0P8D/j5/wANJ%2BDv2tv2bLLwfrWueH/B2seFNX8KeOdcutLtLywv7mwuxcQXtraXj288U2noCpt3WVJSCUKK1ABpf/BTL9izWLvxNb2nxXv0h8FWsk/jLUrvwXrEFjoIS0iu9l5dy2iwWsrQzRskMjrJIWKorMrKL2n/APBQ/wDZK1HwBrXxFTx/q9vB4f1ay0vVdE1DwNrNrrkV5ebfscC6PNaLqEr3AYGER27eaAxTcFYjy2b9gH4y%2BMf2a/jn8NfGHinwppHin4o/FS38daHc6U1xeWFpeW0OiywQ3IkihkkiN3pRRwoyYHGDuJVaPi79i/8AaV%2BLmr/Ef45fG34S/CjWvFnjWx8KaPp/gKy%2BI2s2Wm6fY6Hcaldw3qa7b6al5DqDXOqTOksVoPJSKNFZiWcgHsviH9vv9mzwv4a8OeI9XvvG3meK0v5NE8P2vwm8SXGuSRWUscV3NJpMWntf28MLzQq8s0CIpmiy37xM%2Bmaz8RPBHhv4e3XxX8T%2BJbbSvDljo76rf6vqrfZYbSySIzPPMZdvlKsYLNvxtAOcYNfGHin9hH9s/WPgV4X8Nay3hfxV470a58RHRfGd/wDHbxNpGr%2BCLW%2BuUktLO11q1sJLzXIYkjhWZb1YftJtovMBCjHqPxo/4J0Wvx6/Zu8T/Dj4hfHPxrd%2BO/GHwvj8M694pbxtrQ0ea%2BW0hibUE0Jb5bC3Z5oFlbyIopCHkAkVpGcgHRwf8FKP2Mv%2BFc%2BK/itrHxWvdE0bwRZWV94ofxP4O1fSbmysryYw2t79lvLWK4ktJZFZUuY42hby3IfCMRyHxu/4Kyfs7/DP4Iap8Y/Aei%2BKvFU2g/EHwv4X13wx/wAILrtjqdgdZ1K1tY7p7OTTmuvK8i4eeBvJ8u8eNLeGQyTxg%2BV6p/wTE%2BMnjv4VePtI8ReBvDejeMfEeh6Po9h4h1X9ovxn43W7tLXWLfUJo5P7dgP2CM%2BSxSKJZjvfDSYyT3/7UP7Bnxp%2BMHxB%2BL/xB8C%2BIfC8cni%2BD4W3nhKz1a%2BuYle/8J%2BI7nWpYbxo7eTyIbgNbwrLGJnXLsY/kVXAPULD/goJ%2By3qPxNsvgzD4n8TR%2BK7zRdP1iXQLv4b69Bc6dp9606QXd%2Bklkp06Hdbyq8l15SxEKJChdN1Hw1/wUw/Yp8W%2BDPFnxC0j4wXCaP4L8EXXjLWL3UPCWq2guPD1ujPNq1is9qjapZqqHE9mJ42LIFYl0DYOh/sh/FD4h/Ez43fEH44L4e0GL40fB3w74QurHwnrtxqMul3Fomupdss89na%2BZGBqsRifYrMUk3Rx4G75u/bG/ZU/ah0f9hj4pfE39pi78AWkPwh/Yp%2BIPgjwvH4C1C8uG15r3SLYz6jdLc20AsVCaRbhLONrgK00hM7bUFAH1n4e/4KS/sZeJtD1jxHp/xauoLPQ00qa%2Bk1TwlqtkzWmpXa2djqEK3FqjXNhLOwUX0Ie1UBnaVUVmHp%2BifF34eeI/ilr/wX0PxD9p8SeFtL0/UNfsI7SbbZwXzXAtd0xTyi7/ZZj5SuZFUIzKqyRlvknUP2Z/EHivQPFPxt/wCCkXi/4Z%2BE/Alv%2Bz3c/DqS48P%2BIJltZtNvZIZLzVbya9gt0sHJgthDbIZxATJ/pEhZcdh/wR88B/F2y/ZHtfj/APtIagb74k/F68j8T%2BK9Qeze3aSEWkFlpq%2BVJ88P/EutLSRomwUlmmyAxbIB9VUUUUAFFFFABRRRQAUUUUAFFFFABRRRQAUUUUAFFFFABRRRQAUUUUAFFFFABRRRQAUUUUAFFFFABRRRQAUUUUAFFFFABRRRQAV4jpH/AAUY/Y91K716z1P4pXnh5vDnhy58QahJ418I6roMc2k27pHPf2smpWsC31ujyRK0tsZUBljGcuufab2K5ms5YbO6EEzxMsUxj3%2BWxHDbT1wecd6/MTV/%2BCOX7cvxf1bwvrnxu%2BOOhvrfhrwfqFnqHijUPit4m8TjxDrf2zSr611E6XfRQ2Wk20lzpi%2BfYWQCiOTassgVAoB9sv8At/8A7MNr8NG%2BLGseIPFWlaW2uQaNY2eufDLX7DVNTv5kMkMFlptxYpe37SIGdfs8MgZUdgSEYjovAf7VnwP%2BI%2Bv2XhPw54h1SHV7/wAKT%2BJIdI1rwrqWmXaabDd/ZJZZYby3ikgdZ/kMMirL32bea8m%2BJ3wc/bd%2BMTfD342654N%2BFWh/EP4UeOptY8P%2BGbXxxqV/ouuWdxpN3plzHcXz6VDNYzFL2SSN0tbgRmIKfMEjYq/En4Dftwa/8ZfDv7TXgfRvhXaeLL74Yar4L8Y6FqXivUpLDSFuL%2BG6tb%2ByuE04SagYhG6yW8sVoJS4xLFjkA7jSf8Ago3%2ByB4j17wL4W8K/EbVdZ1P4k%2BDdK8W%2BDdO0TwPrN7PeaHqL7LXUZEgtGa1t92PMknEa24ZTN5QYE7Hw1/bc/Zu%2BK/xGufhP4Z8X6tZ6/b6Xc6nDZeJ/BmraIt/Y28iRz3dlLqNrBHfwRvLEHltmkRfMQkgMpPlH7Cn7CXxY/Zh1/4caz488QeGrs%2BDv2UvCPwxv30i5nlZtW0t5muZovMgj3Wrb02MxV22/NGmBXjXw0/4JV/tjeJ/ij4X8TftTfGGz1SLT/AHivwv408TQfF/xJrV54il1exS2/tO10y%2Bhj0/QjlSxtLRSi5UCZxGq0AfUvhP/gov%2ByP410WPxVoPjvXP7DuNV0vT9P8AEt78P9btdK1GXUr2OyspLS%2Bns0tryCW5mijFxBI8IMqFnCsCfS/C3xd%2BHnjX4geKfhd4X8Q/a9c8FyWcfie0S0mC2Ml1B9ogjMrII3doSshRGZkWSMsFEibvmHxx4E%2BIvhX/AIJ7eNPgR/wUM8T/AAq8EeAtB%2BGkWgW3xM8O%2BLbsM06RpbWupPaXVnAmmzLMLeSGCO4umM5REcnaG7X/AIJX/D74seG/2RNK%2BKv7RVglv8TvixfS%2BOviJClu0X2e/v1jMNpsb5k%2By2MdlZ7TkgWuDQB9G0UUUAFFFFABRRRQAUUUUAFFFFABRRRQAUUUUAFFFFABRRRQAUUUUAFFFFABRRRQAUUUUAFFFFABRRRQAUUUUAFFFFABRRRQAUVj/ED4ifD/AOE3g6/%2BInxT8daN4Z8P6XEJNT13xBqcVlZ2iFgoaWaZlSMFmUZYgZIHenWnj7wJqHgSL4o2HjXSZ/DM%2BkrqsPiKHUomsJLBovOF2twG8swmIiQSBtpX5s45oA1q8X%2BPXj/9ov8A4aL8C/Aj4C%2BM/BXh9Nf8FeJde1fU/F/gu71ok6dd6Hbwwwx2%2BpWPlhv7UlZmZnz5aABeSfSvhr8U/hj8Z/CFv8Qfg98R9B8WaBdu62mueGtYgv7OZkYo4SaBmRirAqcHggg8ivJPiZ4lttK/4KX/AAb8P3GAdV%2BDHxDWA9zJHqng99v/AHzvP/AaTkoq7Lp051ZcsFd2b%2BSV3%2BCNP/hB/wDgoX/0dB8Gf/DD6t/81FH/AAg//BQv/o6D4M/%2BGH1b/wCaivZqKZB4z/wg/wDwUL/6Og%2BDP/hh9W/%2Baij/AIQf/goX/wBHQfBn/wAMPq3/AM1FezUUAeM/8IP/AMFC/wDo6D4M/wDhh9W/%2Baij/hB/%2BChf/R0HwZ/8MPq3/wA1FezUUAeM/wDCD/8ABQv/AKOg%2BDP/AIYfVv8A5qKP%2BEH/AOChf/R0HwZ/8MPq3/zUV7NRQB4z/wAIP/wUL/6Og%2BDP/hh9W/8Amoo/4Qf/AIKF/wDR0HwZ/wDDD6t/81FezUUAeM/8IP8A8FC/%2BjoPgz/4YfVv/moo/wCEH/4KF/8AR0HwZ/8ADD6t/wDNRXs1FAHjP/CD/wDBQv8A6Og%2BDP8A4YfVv/moo/4Qf/goX/0dB8Gf/DD6t/8ANRXs1FAHjP8Awg//AAUL/wCjoPgz/wCGH1b/AOaij/hB/wDgoX/0dB8Gf/DD6t/81FWtf%2BN/7InwptNI0n46fGH4c%2BHNc1DRYNQNt4u8Q2Fpd3EcmR5%2B24dXZGdJAG6ZRhnggZv/AA1//wAE4P8Ao6L4I/8AhbaP/wDHa5p4zB05OM6sU10cop/c5JntYfhviTF0I1qGBrzhJXUo0a0otd1KNGUWtHqm1puWP%2BEH/wCChf8A0dB8Gf8Aww%2Brf/NRR/wg/wDwUL/6Og%2BDP/hh9W/%2Baiq//DX/APwTg/6Oi%2BCP/hbaP/8AHa9O0DRfhZ4r0Ky8U%2BFtJ8P6lpmpWkd1p2o6fBBNBdQSKHjljkQFXRlIZWUkEEEHBq6WJw9dtU5xlbtJP8mznx2TZzlcIzxuFq0lJ2TqU6lNN72TnTgm7a2Tbtra2p5z/wAIP/wUL/6Og%2BDP/hh9W/8Amoo/4Qf/AIKF/wDR0HwZ/wDDD6t/81FeffDv/gov%2Bxh4z8EWfi/xB8PvE2gz6p441rwtomjXXwg1ua71a9064v45FtIotPL3RMOnTzssSuYcGOTbIrKOw%2BIX7VH7LXgWy8e2l5okWn6x4C8Ia14hvLbxZ4E1bSbO7s9MX/S57e6k05xe28TNEJJbJLoqJo2CPvRX2PNNH/hB/wDgoX/0dB8Gf/DD6t/81FH/AAg//BQv/o6D4M/%2BGH1b/wCaiqth%2B1Z%2BxhqHxnk/Z%2BhvLf8A4Si38QR6DdR/8INfiwh1V9Oj1KOxbUGtBaLO9pKkyRmUM4OFBYFRs/Gv4q/BX4Sfs867%2B0Po/hHRvFGnaXYNJptvoa20g1W6aUQQWsUwBQNJcMkO4narMS3Q0AUP%2BEH/AOChf/R0HwZ/8MPq3/zUUf8ACD/8FC/%2BjoPgz/4YfVv/AJqKf%2Bzh8QLb4uXnjLwP8UfgV4b8K%2BMPAfiCHTNf0rR9RXVbGRZ7G2vbe5trqS0tnljeK5VTvgjZZYpVwyhXfB%2BC3xa8b/Fez%2BL/AIe1L9lLwfpfjD4Y%2BL/7C07Q4fFgubTWDJo%2BnapbSyXZ0%2BM2hZNRjjdRFMIzGxVpARQBt/8ACD/8FC/%2BjoPgz/4YfVv/AJqKP%2BEH/wCChf8A0dB8Gf8Aww%2Brf/NRXnvhv9rO88c/AT4TeNvBX7K3hS48ffFrVbrT9M8IX3ifyNM097SC8uLuabUl055DCiWTKrLaF3kmhUogLOnM3/8AwUU8IXfg5PiT4L/ZS0y80Hwz8PtO8Y/F2TU9ZitbrwvY3N9fWUkVtElpKmpXFvJpepvIhkt02WqlXYyotAHtH/CD/wDBQv8A6Og%2BDP8A4YfVv/moo/4Qf/goX/0dB8Gf/DD6t/8ANRXOXv7TXgy9/bVh/Y%2B8D/ATSdUjHhPVb6%2B8X3F1HBa2%2Br2Y0%2BT%2ByRGtvIzt5GpW0sswIEQmiULKxkEXDaj%2B23qfwzT4tn9oD9lf4f6Ovwvl8M6bDe%2BGPHp1Cz1HXNbmWK202ae80qxFl5YudNllnYOiRX6OeEYUAeuf8IP/AMFC/wDo6D4M/wDhh9W/%2Baij/hB/%2BChf/R0HwZ/8MPq3/wA1Fea3P7XGoXnh7wNaeBfgT8GfFHiTxzZ69qdjPoPxaSbwwNN0kQfaJI9Y/snM05NzGBD9mVRsnZpFWEseR1j/AIKj/BW48Y/DXTfAPwL8L32k/Evwt4P1/QYtc8RQ6dr2s2viC5MUY0fTPsko1RrNMTXg8%2BEQIcknrQB7x/wg/wDwUL/6Og%2BDP/hh9W/%2Baij/AIQf/goX/wBHQfBn/wAMPq3/AM1FcB4M/a2/4Tb4ix%2BHtN/ZU8Pr4e8S6t4q0T4Z663iCPz9c1fQZZ4p7e6tjZBbCGdrO8eCdZrjdHb7nSIuqGpdfte6v4dfxN8NfGH7J3g9fiZo3jHw/wCHNK8P6H4u%2B2aNqF1q8XnQF9Sk02GW38mBJ550NozpFGjIsvmoCAelf8IP/wAFC/8Ao6D4M/8Ahh9W/wDmoo/4Qf8A4KF/9HQfBn/ww%2Brf/NRXi3iH/goLZ6f4e26N%2Byb4VfxHoGgeL9Y%2BIej6x4wisbbSrfw3fx2N%2BlldGwf7fJI8iSweZHaxmJ0aaS3Zwldj4y/a68EeFvjV8NPAmn/C34c6toPxVewPhVbHxgv/AAlM9rdQNKdQGhtp4DWUO3M04uv3cYZyuV2EA7j/AIQf/goX/wBHQfBn/wAMPq3/AM1FH/CD/wDBQv8A6Og%2BDP8A4YfVv/morx74Vf8ABQb4f%2BOPhH8V/jl4i%2BEXwwTSPhemuC48PeEPiDFrHiN5rC%2BurSKC8sG063TT3uTbbo908gzKoJxlxP40/bv8P/CDw/rPhr46fs%2BeAPCvxE07xhp2gWuj3njqJfD0323TZtTivZdZnsITb20drZ6gZWa1Lq9jIiJLvjZwD1r/AIQf/goX/wBHQfBn/wAMPq3/AM1FUPA/jj9qzwd%2B1Z4c%2BCPxu%2BI/w98TaN4m%2BHviHXIZvCvw8vtFurS602%2B0S3RWe41e%2BSWN01SUlQiMGiQhsZB63wbPpPjP4FW3xMl8MeELXULzQnvoLnwXrC6pYA7GaOW0vhbwG4jICssnlpkH7tYPjj/lIX8L/wDsjPjz/wBO3hCgD2aiiigAooooAKKKKACvnH4TeKv27/jro%2BveO/C/xv8AhJoGl2/xC8VaHpelX/wf1S/uIrXS9ev9MhaW4TxFAssjx2auzLFGu5yAoAFfR1eCfshDzP2ddbt2J2TfHTx5FKAcbkfx9qysv0Kkg%2BxoA1f%2BEH/4KF/9HQfBn/ww%2Brf/ADUUf8IP/wAFC/8Ao6D4M/8Ahh9W/wDmop%2Bv/tQf8E/fCmu3vhbxT%2B0R8HNN1PTbuS11HTtQ8XaVDPazxsUkikjeUMjqwKsrAEEEEZFVP%2BGv/wDgnB/0dF8Ef/C20f8A%2BO1yvHYFOzqw/wDA4/8AyR70OFeKakFOGX4hppNNUK7TT1TTVBpppppptNNNNpplj/hB/wDgoX/0dB8Gf/DD6t/81FH/AAg//BQv/o6D4M/%2BGH1b/wCain6B%2B1B/wT98V67ZeFvC37RHwc1LU9Su47XTtO0/xbpU091PIwSOKONJSzuzEKqqCSSABk1e/ar%2BJfwq/ZQ/Zv8AGv7SXin4XLq2n%2BCvD1xqt1pukaIJri5WJc7EWONiMnGXI2ouXcqqsw1pV6FdN05qVuzT/Js8/HZXmeVzjDG4epScldKpCdNtbXSnCDavpdJq%2Bl76Gd/wg/8AwUL/AOjoPgz/AOGH1b/5qKP%2BEH/4KF/9HQfBn/ww%2Brf/ADUVR0n9rD9kDXfGkvw40vw3r0viC18OLruoaIfg5ri3Wn2Dx3bxS3UTaeGtWlFjdLFHKEkmeMRxq7yRqy6Z%2B05%2BzB4mk8O/8Irplgh1nx1N4VvbDxL4S1HR9Rsb6PRrrVzC1lc2AmSU2tusyrcLbxvDJ5iysxijm1OEu/8ACD/8FC/%2BjoPgz/4YfVv/AJqKP%2BEH/wCChf8A0dB8Gf8Aww%2Brf/NRVD4Kftf/ALC/7QWjTeI/ht4m0v8As6Lw/p%2Bupf8AiLwjd6LBc6XfMy2t7BJqNtAtzbyOpQSxF1D4QkMQKu/tG/ERvhXr/g/4afCD4AeGvF3jPxte3iaVpetaqukWMFrZ2rXFzcz3SWd06AfuYlVYXLSXEediB3UAd/wg/wDwUL/6Og%2BDP/hh9W/%2Baij/AIQf/goX/wBHQfBn/wAMPq3/AM1Fc9r/AO1J8LYP2LfDX7X/AIT%2BCljeDxevh230bw7qhgs/Iv8AWL%2B00%2BCC7uRHItvHFc3iLNKqybVjkKLIdqtzOpftY6x/wz747%2BMeg/s7fCs6h8ItZ1rTvixp%2Br/EKa30/SW061S8le0vYNFna7Bt5YnIkgt2QsUYblIoA9H/AOEH/wCChf8A0dB8Gf8Aww%2Brf/NRR/wg/wDwUL/6Og%2BDP/hh9W/%2BaiuUs/jx46sPHPwG8M/ED9jrwzodn8YtOEOtzN4oWW88Ma0NEvtWk08W39nqt5HGti8LXBlgO6RSIiAQD4SftT/Dn42ftMeIvgl4J8EfC/8AsnwzqeoadfS3njmBPEk01ixgubiLRFs2Jsku1e2%2B0SXMbF4nYRldjOAdX/wg/wDwUL/6Og%2BDP/hh9W/%2Baij/AIQf/goX/wBHQfBn/wAMPq3/AM1FYX7JP7Svw%2B/az8afEPSdC%2BBmn6VoXhLUrFPDOvTPFKfEun3VuZYtRWIQr5EMm1nh%2BeTzYXilyhk8tfbvBg2aGYFJ2Q313FECc7US5kVV%2BgUAD2FAHl3/AAg//BQv/o6D4M/%2BGH1b/wCaij/hB/8AgoX/ANHQfBn/AMMPq3/zUV7NRQB4z/wg/wDwUL/6Og%2BDP/hh9W/%2Baij/AIQf/goX/wBHQfBn/wAMPq3/AM1FezUUAeM/8IP/AMFC/wDo6D4M/wDhh9W/%2Baij/hB/%2BChf/R0HwZ/8MPq3/wA1FezUUAeM/wDCD/8ABQv/AKOg%2BDP/AIYfVv8A5qKP%2BEH/AOChf/R0HwZ/8MPq3/zUV7NRQB4z/wAIP/wUL/6Og%2BDP/hh9W/8Amoo/4Qf/AIKF/wDR0HwZ/wDDD6t/81FezUUAeM/8IP8A8FC/%2BjoPgz/4YfVv/moo/wCEH/4KF/8AR0HwZ/8ADD6t/wDNRXs1FAHjP/CD/wDBQv8A6Og%2BDP8A4YfVv/moo/4Qf/goX/0dB8Gf/DD6t/8ANRXs1FAHjP8Awg//AAUL/wCjoPgz/wCGH1b/AOaij/hB/wDgoX/0dB8Gf/DD6t/81FezUUAeM/8ACD/8FC/%2BjoPgz/4YfVv/AJqKP%2BEH/wCChf8A0dB8Gf8Aww%2Brf/NRXs1FAHjP/CD/APBQv/o6D4M/%2BGH1b/5qKP8AhB/%2BChf/AEdB8Gf/AAw%2Brf8AzUV7NRQB4z/wg/8AwUL/AOjoPgz/AOGH1b/5qKP%2BEH/4KF/9HQfBn/ww%2Brf/ADUV7BqGo6fpNlJqWq30NtbwrumuLiUIiL6ljwB9a8K%2BLX/BUH9gT4Ku9r40/ai8MTXaNtOn%2BH7ptVuN/ZDHZLKysT2YDrXPiMXhcJHmr1IwXm0vzaPXyjh/PuIK/scrwlWvLtTpzm/nyRkl82jV/wCEH/4KF/8AR0HwZ/8ADD6t/wDNRVv9lb4jfGnxhrHxQ8CfHTX/AAvq2qeAfiFFodnqvhPw1c6Tb3VrLoOj6mrPb3F7eMsiyajKhYS7SsaHapznyH/h538Tvih%2B5/ZL/wCCePxZ8ah%2BLbWPEtpF4b0ufPRkubotuX6qDXS/8E6dc%2BMfiXWvjzrnx/8AA2meGvFtx8ZoG1XQtH1L7Zb2g/4RHw2IVWbpIxhERYjjcWA4ArHDZjhcZUcaLctL35ZKPyk4pN%2Blz0s74Nz7hvCRrZlGFJuXL7N1qMqq0bvKlCpUnGKtZufLZtK13ZfSlFFFdx8sFFFFABRRRQAUUUUAFFFFABRRRQAUUUUAFFFFABRRRQAUUUUAcr8bvEXh7wl8J9d8ReKdC1TU7K1si0llovhq71i6kcsBH5VnZwzTzMHKnEcbFcbuApI%2BQ/CNt4o%2BJn/BGPwT8E9B%2BE3jseJvDvwn8Jx%2BI/B%2BvfD/AFXSrq8j0ptP/tTTFS/toRLLLHbXMCxZPnBwV3I26vuaigDwT9ieDVdd8a/Gv4yQeDde0Hw347%2BJlvqXhaz8S%2BHrrSLy5hh8P6RYz3j2V5HFcWwkubSdQssaM4hEuMSKx8S/ad1z4reB/wDgtR%2BytceOvG3h%2B%2B8O6/oHxG0/QLHSvDU9ldWEbWujOUuriS9mS8Z5Y4NrJDbhdrZV9w2/dFfnn/wV41248H/8FFP2KfGsWRFYeLdaivZQf9Xb3F/4dt3Y%2B2JcfjXn5pVdHAyqdnF/%2BTw/zPr%2BA8Csz4po4N/8vI14r1eGxLX4xVvOx%2BhlFFFegfIBRRRQAUUUUAFFFFABRRRQAUUUUAFFFFAHmepfsyfs2/GjR9B8U/GL9nvwP4s1O38P2trBqPiXwnZ388cCqXWJZJ42YIGd2Cg4BdjjJNUv%2BGB/2Ff%2BjLPhL/4bnTP/AIxXJ/F7/gpB%2Bxf%2Bx9L4c%2BGn7Rfxl/4R3W77wpZ6na2X/CO6jd77V98Syb7W3kQZeGUbSwb5c4wQTyH/AA/N/wCCWX/R0X/lk65/8hV4uIxfDtOvKNedJTT15vZ3v53V7%2BpovEPEZUvqkc4nSVPTkWJqQUetlFV4qO%2Byit9tT1v/AIYH/YV/6Ms%2BEv8A4bnTP/jFenaBoGheFNCsvC3hbRbTTdM020jtdO07T7ZYYLWCNQkcUcaAKiKoCqqgAAAAYFfK3/D83/gll/0dF/5ZOuf/ACFX094B8deFfih4E0X4l%2BBdU%2B3aJ4i0i21PR73yHi%2B0WtxEssUmyRVdNyOp2soYZwQDxXRgcRk9aclg5U20teTlvbz5UtL9xS4uq8Sfup5jLE8mtnXnV5b6XtKrUtfa6SvtfoeE/DD9hfxX4A8eeFNa1P4z6bqGg%2BB/ih4q8X%2BGtLh8ISQXYXXf7Wee0uLk3rpKYpdVYpKkMX7uEIyFmMg8k1r/AIIxPr3ijx54ku/jr4eiuPGXgLx/4XOt2vwwRNbuY/E0iuLjVdRN8X1N7IKI4UCwIYxtCpgMPdbD9vz4R6vp1jNpPhTxHNfXWi%2BLdSu9JlFhby6Wnhy9Wx1GO7knu0ggYXbpAjNL5bEli6xq7rwng3/gp94H%2BO03w41H4CQWctjrvxn1HwN43gv76x1KXTzb%2BDdX8Qoba50q%2BuLOV2NpYHek8yBJpo2CSqfK9Ig66T9hgP4h1XXx8UMHU/jrpPxHMQ0T/V/YtI0/TfsGfP8Am3/YPM87A2%2Bbt8ttu5u8%2BNfwNv8A9oD9nnXfgl4/8YxW9/rVg0aeIND0swCyuklE1rdRQSyy5aGVIX2s7B2jOcBsD548Wf8ABVSST4H%2BFfG3wj%2BFeveI73U4Ph7J4j8UTeH4LfRtGbxLd6cqQXEA1JrmO4a1vfNVIDdRQNNB5szKSW%2BkPjD8ePD/AMJPgF48%2BPt1o2o3Fj4C8P6xql/ZXGnzWctwNOhlllWMTopZW8lgkqho3BDIzKQSAc78Bf2f/ih8KdX8ReO/Gvxa0PxD4q8ceLYtW8aajZeD5rC0ktYNMisLeysbdr6ZrTZ9nglMkstyWZrgbVEqeTg/Bb9m79qH4U%2BP/jH8QNT/AGiPAOqT/E/WRrWkW8HwqvbZNF1GLS7DS7dpidckN7brBp8LPEv2d5JGkKyxKVRZf2WvjZ8f/EPxU8T/AAG/aVHhG58RaN4K8O%2BK7bUvBWlXNlaC11aTUoDZNHc3Nw7y28%2BlzZnDosqTRkRRkMtHw5%2BLX7SWvftLfGj4BeJdT8Dyr4Z8K6Hrnw8u7HQLyA266nNrUMcOol7yT7UUOmQszwrb5EsiheFagDivhr%2BwP8fPh58EPh94NX9pvwlP43%2BFniu91Twd4rg%2BF1zFp72l3a3NvcWV9p7aw8lxn7ZM4kiuoMNHb/KRG4lz7/8A4JZXNp4Oj%2BG/gv4/mz0LxN8PdO8HfF2PU/CwurrxRY219fXsk1tKlzEmm3FxJqmppI5juE2XShUUxI1dB4H/AGgP2nfEGkfF/wAH6h498D3urfDDVrK2Tx94Y%2BFOsajp91I9qlzeaeNFttTku7i8t1ZFYQXb5NzGPL3o8dc1pn7aP7TviT9mT4UftGaLD4HtYdc%2BL9n4S8bWGo%2BGL9Zr%2ByufFkegxXNpC16kmkXDQs1zJa3YuJbaRvs0qeZHIaAO20b/AIJsfBfwd%2B1n4b/ar8AeKPF%2BlT6NJ4nu9Q8NyePddutPvtQ1q5t7me4S3m1Bra2TzY53e3SDypXmRiqmCPEms/sDaR4l/Z88Y/CPxN48h1DXvF/xRPj%2B58T3WgB4Rq1vrNvqWlrLaGY%2Bfb2qWOnWZjMqmaC0wWQv8uB4m/bs1Bv23NU/Z0sPiB4b8LaF4S17Q9D1o674B1bUpdY1LUreG5it01K3nhstILpc20NuboSvc3DyRogMYD8z4I/by%2BPtt4Q%2BM2v/ABMuPDEXizwRoPjXV/Bvwt1T4cav4WnvrPSNQuoLO7/tjVLxrXUbWWFLNpbi2iWKI30bMyAqrAHT63/wT68c678Mdb8Mav8AEX4Ya14g8XfEG58XeJ9T8WfBRdU023vZLSC0jl0rTptSxYTRR20TCWWW63StK7q3mEDO1X/glzHpttY/Dn4X/GmLSPh4fDfgzQ9Y0HVvC51HVRa%2BGpxLZCw1H7VEtkzhV8wvb3GH3yx%2BW7lqzfgh/wAFCfiz408A%2BNLHVtP0fX/GNv4n0zw98OLY%2BA9W8ITaxqN/p63aLdaNqs819a29uvnTyXRbbLbW1xJEp8k7sHTf%2BChn7RWo/DD4AfFvxhrfhPwR4X%2BIHwWtfF3xD8aXXwg17XNH03UpRpzfZTcWl/HFo9uyXN04nvZHRVhGXO1iQD07w1%2Bwb8RPBvjhtc8NftCafHo3hvUPFutfCvR7nwQ0kmga3r0lxLLc3k320DUYLd7y7WG3SO1IinKPK5VXGX8PP%2BCfPxe8J/AG3%2BGXiP8AaJ8L6h4v0fxvY%2BMtE%2BIFl8OLqCe816KQvdXurQzavOdQN0jPC6xS2ojhfy4fLVIhHma1%2B3n8adM/b7/4ZuGjaFF4aX4i2vhhbafwjqO6e3m8Prqhv/8AhIBcf2bDdCZjCujvEbx40WUfJKrCn4t/a%2B/bB%2BDnjX4ueHvFviD4a%2BNbTwD4Y8OW2mXeh%2BBtQ0RR4q1zUDa2dlcNLq17vhhia0uJtoR9l7FtPUUAbnj/AP4Jsax8QPgXZfBrWviL4D1K6v8AX9f1vxj4q8S/COPU73%2B0dWunnlu9EEt8E0eaESyxwPIt5sRYN/mNGzSdx44/ZL%2BIXjPxD4O8IxfFvw/pXwt8Da/oeraB4U07wTMNZifShE1vB/ar6g0YgaWIbwtoJHhd4TJh2Y%2BReOv28f2gvhpqd78HfiX47%2BFvhfWNB%2BKDeGvEXxe13wzexeGILWTw9BrNnI1i2pq9vPO1yLNVkv8AZvgZgzNLFCZ/E37af7UvxA/ZZ%2BEP7T3wA1/4f6VcfE688O6JB4G8U%2BAdRv7ibVr2%2BEN68V3HqloYre3t1ubna9s0gjspGPLBFAOz%2BIv7AnjT9oLxH4i1/wDaM%2BN%2BjXpv/hlrvgjw4PA3gV9Gk0201O4s7iS6uJJ768%2B13EMmn2rRYEMSt5xMTeYNlbUv%2BCfXj/xXdP8AFz4gfHPw5q3xZt/iDpfivRPE/wDwryRNEsJtP0yfTLe3/sptReV4/s95fuW%2B2K4nujIjIsaRjstK%2BN3xl0L9tbxR8GPiDqHhWbwRB8N4/FHh86Xol1FqdptujbypdTvdPFcA7WdRHBEVGAS/WvAvh5/wVE%2BJPj/9lHxJ%2B0ro/iTwdd6pc%2BEdG8SeGPATfDzWbG50jTtQu44RcNc3N0q%2BJlijmx/xLY4VnnhNvE7PNEaAPpf4L/AlP2bv2Y7v4VHxMNYuIzruq6jqMdgLSKa91G9u9RufJtw7i3gE93KsUO9/LiVE3Nt3HO8cf8pC/hf/ANkZ8ef%2BnbwhWH%2ByV%2B0T47/aQ/Z/8d6/8Qhp0l74f8RatocV7ZeGL7QZLyKG2ikWW40jUJZbzSpczMv2e4YuyJHOAI54xW544/5SF/C//sjPjz/07eEKAPZqKKKACiiigAooooAK8F/Y/wD%2BTetX/wCy9%2BOf/VgarXvVeC/sf/8AJvWr/wDZe/HP/qwNVoA6zX/2Jv2MvFeu3vinxT%2ByP8MdS1PUruS61HUdQ8A6dNPdTyMXklkkeEs7sxLMzEkkkk5NVP8Ahgf9hX/oyz4S/wDhudM/%2BMV534//AOCyn/BNz4X%2BO9b%2BGnjr9o77Drfh3V7nTNYsv%2BEQ1iX7PdW8rRSx747Rkfa6MNysVOMgkc1kf8Pzf%2BCWX/R0X/lk65/8hV4M8bwwptSnRvd3v7O9%2Bt9N73uaf8RNxND90s8nHl0t9bqq1tLW%2BsK1rWtZWtaytZezaB%2BxN%2Bxl4U12y8U%2BFv2R/hjpup6bdx3Wnajp/gHToZ7WeNg8csciQhkdWAZWUgggEHIrW/aa%2BCdl%2B0n%2Bzp47/Z71DX5dJh8b%2BEdQ0N9VggEr2f2q3eETBCQHKFw20kBtuMjOa8a8A/8ABZT/AIJufFDx3ovw08C/tHfbtb8RavbaZo9l/wAIhrEX2i6uJViij3yWiom53UbmYKM5JA5r3H46/GHw5%2Bz78HvEfxv8ZaZqN1o3hXSpdS1lNKhSSeKziG6eYK7oGWKMPKwznbG20M2FPoYGtltaEng5QaT15OW1/PlS1t3JlxJU4k/ezxrxPJpd1ZVeW%2BtryqVLX3smr726nkfiL9ib4heP9B%2BLsvj34%2B2sXiT4t/DvTfDN9rXhPwrNpsOmyWY1ELcxRSX08jI4vwGiMwOImxIPMGzh/gl/wSmg%2BEXiOHxNb/Ejwjp4X4uL45fQfAfwvj0HSIGHhG88OGzt7VLyXyg32oXbSs8jM6shHzh09E%2BM/wDwUQ%2BDvwW0vxdrmqeHNT1Cx8FeLbPw3rGojxBoOlWj39xpsWohIbnV9Ss4ZNkE8AYB9%2B%2BYKivskKcja/8ABR3SfFPj6O/8E3FpceAtc8GfCTXfCOqxaFJPeXX/AAmHiDVtNKzI93CscYis7MqwBeBpJnZLnCwV3EnV/A39ijxD8Ao/Al34R%2BLllc3/AIG%2BBulfDq3l1Dwu7Q3f2OSBjfNGl2rLvWFgIQ52FwfMbbtbrP2jfgF44%2BKniDwf8TPg/wDE/TvCPjPwTe3j6VqmteGn1exntby1a3ubae1S6tXcH9zKrLMhWS3jzvQujeY%2BDv8Agoz/AMLL/aI8HeCfCHwh8S2fgLxJ4K8Wa/aeK9U0ITv4gh0m406GOfS47K5mnaN/tUreVPbpPMrQNEhBOfSP2pPjR8QPh7o3gXwt8HE0iHxR8SfG9v4c0LUPFGmT3FlpubK81Ge5ntY5reWbba2FwFiEsRMjICyjNAFPw7%2ByxrHgL9l61/ZW8GeKfC%2BoaHpngew0Kx/4TvwS2sR3k8W4XdzqEC3kEd3HcJtzAgh2OZG3urqicZ4d/wCCcPh3Qv2Yr/8AZut/GGkWNv4r%2BIFj4k%2BID%2BHfB0enafqcEN3ZyS6VaWKTlbG0ktLG3sMF5mWAMWMkjF60NK/a6%2BKb/sE%2BNf2j3%2BHdlq/jjwL/AMJXpl9omjw3As9Q1PQ9SvtNlmhjBknW3lksjOIgZJVjfZl3GT4yf%2BCsGq2PhLW/B%2Bl/Ez4f%2BNfEqfEnRPCvh34heCPCOpXnh%2B8TUtNm1Dz0061vLq5vZoVsr%2BAW1tcuZp44UDws8ixAH0H%2B0f8As7/Hj4v/ABt%2BF3xP%2BG3xv8I%2BG9L%2BG3iGbWW0bXPh5darcalcTaffadKouYtVtVhj%2BzX8m0eS5WVFcsy5jPD3v/BMzw9rfxNuZvEXjywl%2BHM3jrxF4xPhCw8NyWeqzarrmlXum6gs2rxXYZrZk1G7kVI4IplcwjzysIU8r8Q/27fi94cj%2BGXiLSPjL4Mi8B614V8QX/jv4rt8BvEl/pNjfWGpWVqlpPDDqKHw/hZb8TtqEzCGSxkVyhR1F/xd%2B3r8Z9C/bzH7OtppGgr4ZX4g6X4ajgn8Jai5u7a70OPUWvj4gW4Gm2dyszvCmkSxG7mSJJE%2BS5iYAHpX7Lf7Bvw7/ZM%2BLXjv4k/D7xr4svbTxla6VbW2jeIvGes6sumQ2Vv5IUSajfXHmFuCrbVMajy1O3ivYPB//IJm/wCwrff%2BlctalZfg/wD5BM3/AGFb7/0rloA1KKKKACiiigAooooAKKKKACiiigAooooAKKZcXFvZ273d3OkUUSFpJJGCqigZJJPAA9a%2BevjB/wAFVP2GPg5q/wDwil18bbXxN4gdzHB4d8C20ms3ksg6x4tQ6I/%2By7rXPicXhMHDmr1FFebS%2B7q/kmezk3Duf8R4h0MqwlSvNbqnCUrLvJpcsV5ylFee59EUV8i/8Ns/t8fG/wDdfst/8E6dW0Swm/1Pif406zHo6RjszafGWuHB65Vun1pR%2ByD/AMFHvjX/AKR%2B0f8A8FDW8JWcv%2Bu8N/BXw6liI89dmo3Gbj2GVPrXD/ayq/7tRnU8%2BXkj/wCBT5fwiz6n/iH8sBrneZYbCd4up9Yq%2BnssL7Zp%2BU6sPOx9SeMfHfgf4eaO/iH4geMtK0LT4/v32sajFawr9XkYKPzr548e/wDBX/8AYO8IaufCvhL4q3Pj7XWz5Gh/DnRbjWJp8f3HhXyTzj/lp3qDwd/wR1/Yb0XWE8VfEXwTrfxI11fv638SfE11qs0nrvRmWFsn1jr6D8E/Db4W/CDQm0n4deAtA8L6ZEm57bRdLgsoEUDqViVVAA70Xzut/wA%2B6S/7eqP/ANsj%2BYreFuV7vF46S7KlhKT%2Bb%2BsV2vlB27M%2BZv8AhtD/AIKEfGb93%2BzZ/wAE4dS0Cyl/1PiL4y%2BIYtKEWem/T4t1wfX5W4pV/Zd/4KjfF8ef8b/%2BCgmjeCLWX/j40D4R%2BCkwM9kvrw%2BemPoa9D%2BMH/BTP9gv4FvJbfED9qHwsLuI7X03Rr06ndK390w2YldSfRgK88T/AIKsah45G/8AZ7/YE%2BOvjS2f/j21mTwiumadce6T3EmSPqorzasstU%2BTFYyVSX8sZW/8lopv75Hk1vFzI8qqOllGBweHkuqpvGVvnOv9Ys/NUYa7W2JtP/4I1/so65ex6x%2B0D4r%2BI/xbv423i5%2BI3j27ugH9QkLRLj0UgjHHNe6fCX9lf9mr4Don/CmvgN4S8NSIMfatI0GCGdv96UL5jn3Zia8H/wCGm/8AgrB4548Df8E3PDnhSJ/9Ve%2BN/iraz5Hq0NogdfpnNA0D/gt14o/eaj4%2B/Z08LRv92PStK1i9ljHuZiFJ%2BnFaYeeVYeXNhsJNvuqTv/4FNqX4niZv4rcXcQUPYYrE4ytS/kSnCl6KnehSS8lSt5H1tXjP7L//ACW/9o7/ALLNY/8AqFeF68w/4Zi/4KyeI%2Bde/wCCnfh/QFb78Xh74NWNxx6BriQEfWui/wCCdfgb4g/DbW/jz4L%2BKfxduvHmv2fxmgOoeK73S4rKS%2BL%2BEfDciZhhJSMIjrGAOojBPJNevhsXWxE2pUJQXeXL91lKTPnsJjsRiqjjPDTpq28uTXytGcn96sfSdFFFdp6IUUUUAFFFFABRRRQAUUUUAFFFFABRRRQAUUUUAFFFFABRRRQAUUUUAFfnR/wXktLm0v8AwX8QbCIvdeDPh/r%2Bu2wXqGi8U%2BCEJH0WVj9Aa/Revir/AIKx%2BDv%2BE7vb/wAPiLey/stfE28jTGSz22oeEblQPfdEMV52cU3WynEQW7hK3qotr8UfZ%2BHONhl3iBlOIn8McTQ5v8MqkYSXzjUa%2BZ9o2d3b39pFfWcokimjWSJ16MpGQfyNSV5z%2Bx/4x/4WF%2Byd8MvHTS731f4f6PdynOTveyiZgfcMSD7ivRq7aNRVqMai2kk/vSf6nzOZYKeW5lXwc/ipTnB%2BsJzg/wAYBRRRWhxBRRRQAUUUUAFFFFABRRRQAUUUUAZXgb/kSdH/AOwXb/8Aota1ayh4M0NMrA19CmSRFb6tcxovsqrIFUewAFL/AMIfpP8Az96r/wCDy7/%2BO0AalFZf/CH6T/z96r/4PLv/AOO0f8IfpP8Az96r/wCDy7/%2BO0AeH%2BIP%2BCaf7PniTxH8ZvEuoav4mEvxt062tNct49Rh8jRBEpLSaahhIgaaci5mEvmrLMqllK/IZPBf/BO/4ceF/F6fEPxB8YPHvijxAfidJ47vNX1%2B90/zLrU28Kz%2BF/LZLazhiS3FhOWWOJExMiNnZujb2z/hD9J/5%2B9V/wDB5d//AB2j/hD9J/5%2B9V/8Hl3/APHaAPnRf%2BCU3wXsvCug%2BAPDvxj%2BI%2Bk%2BHdJsfB8Op6Fp%2BqaeINfn8NNaHTLu8Z7JpBNtsraOX7O8EcqRKGT5VI9/1j4daR4t8D678OviFfXPiPSfEUN9bala6pHCoayug6vZjyI4wYljcxqWzIVA3u7ZY3P%2BEP0n/n71X/weXf8A8do/4Q/Sf%2BfvVf8AweXf/wAdoA8z%2BB37Hul/AuTUtZ0745%2BO/EGv6pDotjdeKPE0%2Bmz3x0jSpJXtNJHl2UcX2YfaLsM5jNyxvJnM/mFZFo237GOqWfxz8f8Ax6sv2tvifDqHxB8Lx6FdaZDF4fS10m3gN61k9mRpInWW1e/uXiaWWXcXHnCYKoHrX/CH6T/z96r/AODy7/8AjtH/AAh%2Bk/8AP3qv/g8u/wD47QB478Gf2ItV%2BAnwKi%2BAvw5/bA%2BKFtZWU0T6TrUlj4Za/scNI8/zf2MIrlrh5Gkmluo5ppJCZPMDszHN8af8E6/Dfif4MaB8FPD37SnxL8M22jeOf%2BEy1DW9GbRJ7/Xdc/tZdYF5dtfaZcRAi/XzhHbxwxYPl7PKCxr7p/wh%2Bk/8/eq/%2BDy7/wDjtH/CH6T/AM/eq/8Ag8u//jtAHk3jT9hfwB47%2BJafETWfiZ4wS3u9X0HWPFXhm1msI9P8Tapo0sM2n395/onnrLHJbWpK20sEUgtoleNkBU0/GH7AHgb4saj4hvvj38Z/Hvj2PW/Bus%2BF7C01y5061j0LTdUaFrxLM6dZWzGRvs1sFnnaaVBANrgtIX9l/wCEP0n/AJ%2B9V/8AB5d//HaP%2BEP0n/n71X/weXf/AMdoA8d0f/gnd%2Bzvq/8AbN9%2B0joyfHDVNdvLK4vdX%2BMHh7R9SeP7HBLDapDBBYwWsIjS4ucMkIkY3MpZ23cYtj/wTL%2BFPh39l/w7%2Bxb4B%2BLfjXwv8LtH8G/8IzrXhDw9DotvD4nsnUpctfS/2aZ0muQ8vnS2klszmZ2yGIYe%2Bf8ACH6T/wA/eq/%2BDy7/APjtH/CH6T/z96r/AODy7/8AjtAHkk/7B/w4m%2BM8nxWHxH8YJpU3jaDxjP8AD5LqyGiSa9DaR2sd%2Bf8ARftgKrFFJ5K3ItzLGJDFuznVvv2MvhLq3w2%2BJXw11u/1u8i%2BKniW617xLq0t6i30d7IkEdvJbyxxqIzaR2lnHbkqxRbSLcXIJb0b/hD9J/5%2B9V/8Hl3/APHaP%2BEP0n/n71X/AMHl3/8AHaAPKdD/AGN77wr4H1jQPCP7VXxL0vxH4n8V/wBv%2BLviDbpoT6vrc/2KOxWKVZdLeziiW3t7WNRb20LL9mjIbcZC%2Bzon7IXwh8NXHwpi8PpqVrpvwas7iLwZogvBJbCaWxNgLucyK0s1wltJcxrIZAT9snZ97MCve/8ACH6T/wA/eq/%2BDy7/APjtH/CH6T/z96r/AODy7/8AjtAHmzfsmzSftbv%2B1rN%2B0V48eWTQP7EfwI9toZ0NrDBbyD/xLftuPPJuN32rdv8Al3eV%2B6rhtP8A%2BCW/wVtfCn/CH33xS8fX1rpWhaXo3gCS51GxWTwRY6bqNrqVhDppis0D%2BTdWFhIHvBdOwsoVkZ13K30F/wAIfpP/AD96r/4PLv8A%2BO0f8IfpP/P3qv8A4PLv/wCO0AcD8O/gBonwD%2BG/jkW3jbX/ABPrPi6%2Butd8VeJ/E8lsb3VL42EFmkjraQQW8YS1s7WBUiijUJAuQWLMcvxx/wApC/hf/wBkZ8ef%2BnbwhXqJ8GaG%2BFna%2BmTIJiuNWuZEb2ZWkKsPYgivLvHH/KQv4X/9kZ8ef%2BnbwhQB7NRRRQAV5/8AtL/HG5%2BAPw1i8WaL4RXxBrWq%2BIdL0Hw3ocmo/Y473UdQvYrSBZZ/LkMEKtL5ksgjkZYo3KpIwVG9Arz79pj4HXXx%2B%2BGsXhPRfF6%2BH9b0rxDpeveG9ck077ZHZajp97FdwNLb%2BZGZ4WaLypYxJGzRSuFeNirqAefXP7dF1oX7L3in43eLfhTFZ%2BJ/B3jE%2BEdb8JW/iISWkesPqUFhBjUHgjxZSG6tbg3LQK0cEpd4gyNHXIeLP%2BCoOk%2BA/CWo6T428L%2BCNH8faP8AFCTwLrGnat8T1tfDVhfR6PFrTXM2tS2SslsLG4gBY2nmfaZVt/Lzlx3/AMP/ANlb4jeCPhH4x8A6p8TPB/iHVPHV1qWq%2BIr7Xvh3JPp93qt7MxkMlidRw9gtsIbZbQy%2BZsh3PcuzE1wPhD/gmFY/DXwxoWv/AAz8YeCtE%2BIWg/Ey48bWmrWfwyEXhyG7n0U6G9rBo0F7G1vbLp4iRFS78wTQiVpH3yI4B9LfDnxHqfjDwBovizWYNIiutT0uC6nTQNZOo2IaRA3%2Bj3RiiNzDzlJfLTeuG2rnA8e/Y/8A%2BTetX/7L145/9WBqtdb8F/2V/h78MP2X9H/ZY8YWNh4y0Gy0trTVYNd0eF7TUjJI00oa0YNEkJkdtkPzLGgRATtBrk/%2BCe/gnwf4d/Zj1HwB4b8L2GmaHp/xa%2BIVpp2kabapb21pBH401pY4oo4wFiRAqhQoAXaMYxQB71RWV/wh%2Bk/8/eqf%2BDy7/wDjtL/wh%2Bk/8/eq/wDg8u//AI7QBqVU17QtH8UaHe%2BGfEWmw3mn6jaSWt9Z3Cbo54ZFKPGw7qykgj0NVv8AhD9J/wCfvVf/AAeXf/x2j/hD9J/5%2B9V/8Hl3/wDHaAPn/wAD/wDBML4UfDP4SeA/hj8PfjT8RtL1D4e63qeqaX45Gp6fc61ey6hHPFdC6kubKSGTdFN5SusKSxpDEEdNpJn8Df8ABMT4B/D/AMNeHvCuieLfGElt4a8NfDzQ7BrvUrZ5HtvBuq3eqaW0jfZxuklnvJVuG4DoqCMQsC7e8/8ACH6T/wA/eq/%2BDy7/APjtH/CH6T/z96r/AODy7/8AjtAHiXw3/wCCeHgT4VfEHSvH3hH45fENF8LeHNd0PwJolxe6bJY%2BFrLVZraaZLRDY75TE9pB5JunuNipsO5Plr0b45/APRPjv4N0vw5q/jTXdE1TQNatdY8PeLNAe1XUdM1CAMq3MQnglt2LRyTROkkLxvHNIpTB46f/AIQ/Sf8An71X/wAHl3/8do/4Q/Sf%2BfvVf/B5d/8Ax2gDi/ht%2BzbYfCL4YQ/Cv4e/FXxVYWqadq63Gok2E15dapqV015ca1I8toym9%2B0y3EwAUWxe5k3QOBGE5M/sGeCbjwrfwav8YfG9/wCM7/xfaeJz8UbqTTP7cg1O1txa28kSJYrYRxpah7cQC08opNMWRnlkdvYP%2BEP0n/n71X/weXf/AMdo/wCEP0n/AJ%2B9V/8AB5d//HaAPE9a/wCCfXhrVfgu37Pln%2B0X8StO8J6pFrC%2BN9OsbjSfM8XPqt3Pd6lLezyac80D3Et1c7jYvahFmKxiMJHsu3f7A/wyuPi9L8SoPiH4vttGufGVh4tvvh5b3VmNEudcsrW3tba%2BbNqbxSi2lq/kpcrAZLdHMRYuW9f/AOEP0n/n71X/AMHl3/8AHaP%2BEP0n/n71X/weXf8A8doA1KyvB/8AyCZv%2Bwpff%2BlctH/CH6T/AM/eqf8Ag8u//jtX7CwtNMtEsbGARxRjCqCT3yTk8kk5JJ5JNAE1FFFABRRRQAUVHd3dpYWz3l9dRwwxjMksrhVUepJ4Feb%2BN/20f2QfhtvXx5%2B1F8P9KkTO63vPF9msx9hH5m8n2ArKrXo0FepJRXm0vzaMa2Iw%2BHjzVZxivNpfm0emUV8e/FP/AILn/wDBPv4d2d3c%2BGvG%2BveN3sR/pSeDvDc80cR7ZnnEMGD6iQivIPD3/Ban9rb9qjVJfD37BP8AwTv1XXgshjXxF4l1Mmxib0lMQjgjPsbnnt0ryK3EmS0pqmqqnJ7RgnNv0UU/zKwU6ua0Z1svo1MRCGkpUqc5wi%2B0qqiqMX5SrJ%2BR%2BkNZXjLx14J%2BHWhS%2BKPiD4x0rQtMgH77UdZ1CO1gj/3pJGVR%2BJr4v1H4L/8ABdL46WS/8Jv%2B1L8LfhPZ3UGJ7DwNoct5dRZ7F7hHKN7xz/jXnNx/wb2%2BKPiF4nXxt%2B0R/wAFA/FPjXVCDvuNR8NJcMAeqhr25uBj/gI%2BlZ1s2zWa/wBkwU35zcYL7ryl%2BR1Zbiso9pfMaeJSX2aVOi2/Lnq4iMI%2Btpr1PoTxj/wV%2B/ZQi12XwT8A7Txb8Y/EcZ2nR/hd4Zm1EKTwC1wQkOz1ZXbABOK4vxv%2B07/wUo8eWr3lx4b%2BEf7Nnh113NrPxS8XQ6jqyxdpY4IysEbdyk3T1rQ8Hf8ABEz4A6DoUXhnxR%2B0P8aNf0yL7ui3Pjw2mnp6rHb2kUSxr7A12ngv/gjx/wAE2/A1wt7p/wCy1o%2BoXAbe83iC/u9SMjerLdTSKc%2BmMe1cfsOKMX/GcYLtGfL%2BMYSm/wDwKJ9D/rlgst0yPh6jzdKuOxEsVP1VCjCjhl6P2tvPr8feMfEf/BO3xTrq6d%2B1v/wUB%2BJ/7TviIvvHgzwXDdjSJnBzmGz00CFTnHS4weOK9s%2BDfxs%2BL3grSv7K/YI/4Ipar4b0qRAH1Lxnf6d4UmlXs0kTh5pyeOS5NfaPgb4a/Dn4YaSNA%2BGngDRPDtiMYstD0qG0iGOnyRKo/StuujDZFWpT5/aKEu8IJy/8GVXUn%2BXoePnXFXiPxPh1hszzaUaC2o0IQpUY%2BlNKNP5%2Byb876nyV/wAJ9/wWs8Uj/iRfAH4C%2BFd3T/hJvFOo3xT6/YwM/hQfhT/wWb8W/J4g/aw%2BDfhEP95/CvgW5vzH/ui9YA/jX1rRXf8A2UpfHXqv/t%2B3/pMY/mfK/wBiKX8TE1pf9xOX/wBIhH8z5JH7AP7aPi3n4t/8FZPiHdh/9Yvg3wrp%2Bg/gph34%2BtLH/wAEbf2bfE08cvx9%2BLvxf%2BK0aMHNp8QviTdXMBcc52QeT%2BWcfWvrWij%2BxMsfxw5/8Upy/CU2vwD/AFcyeX8Snz/45Tn%2BEptP5xZ518H/ANkX9l34AJH/AMKZ%2BAHhLw7NGMC903Q4Vum/3pyplc%2B7Ma9Foor0aVGlQhyU4qK7JJL7kketRoUMNTUKMFGPZJJfckkFFFFaGoV4z%2By//wAlv/aO/wCyzWP/AKhXhevZq8Z/Zf8A%2BS3/ALR3/ZZrH/1CvC9AHs1FFFABRRRQAUUUUAFFFFABRRRQAUUUUAFFFFABRRRQAUUUUAFFFFABRXkX7fXxC8afCf8AYo%2BKfxI%2BHmsyaZrOi%2BBtRurLV4Ywz6aVgbdeKGBUmBd0w3Ar%2B75BGRXkXg7xjffAjwz%2B1F4M0L4z%2BLLnwn8NfDcGraF4m1zWLrxPqOhXMugG7uokmvZZJrvywkF4kEkjc3u1SsbRqoB9dV8/ftCeE4/Hv7Yfg/wNMoKa1%2Bz98R7Bg3QibUPCUZz/AN9V5z/wTA1L416F8S/HXwq%2BN%2BvX5v7f4f8AgvxBa6M3xQ1DxlaRrfLqscl%2BmpaiFnhmuZLNg9iim2hW1ikhkl%2B0SFfQL/xp4k8Q/wDBTbwX4d1b4R%2BIdCs9J%2BD3jhLDXtVudOe01oNq3hLL2y213LOgTaM/aIoD842hvmxMoqcXF7PT7zWhWqYevCtTdpRakvWLTX4pGb/wRy8WSeMf%2BCa/wsv7hj5tnpNzpsqN95Da3txbBSO3yxD8MV9M18lf8Ee/%2BJB8FPiT8JD8v/CB/HXxRoaRf3ES4SYY9j5xxX1rXm5JJyyehfdRSfrG8X%2BMT7bxQo06PiNm3s1aM69SpH/DV5a0f/JayCiiivUPhAooooAKKKKACiiigAooooAKKKKACiiigAooooAKKKKACiiigAooooAKKKKACiiigAooooAKKKKACiiigAooooAK8Z8cf8pC/hf/ANkZ8ef%2BnbwhXs1eM%2BOP%2BUhfwv8A%2ByM%2BPP8A07eEKAPZqKKKACiiigAooooAK8Z/YP8A%2BSIa5/2Wb4j/APqa63Xs1eM/sH/8kQ1z/ss3xH/9TXW6APZqKKKACiiigAooooAKKKKACiiigAooooAKKKyvGvjnwX8NvDF341%2BIXi3TdD0ewj8y91TVr1Le3gX1aSQhV/E0pSjGLcnZImUowi5SdkurNWor6%2BstMs5dR1K8it7eCMyTzzyBEjQDJZmPAAHJJr5F1P8A4KYfET9oPU7jwh/wTb/Zr1T4jGKZoJviL4lD6V4XtHBwxWWQLLeFSOY4wjEYKlhXB/Gn9mvwdp2jRfFT/gs9%2B3rHrFgW861%2BG%2Bh376P4eDKc%2BXHawkXWpMpGQ2A%2BMggivGq51TlByw0edLebahTXrOW//bil6nnYLGY7PcXHB5FhZ4qrN2jyRlyt%2BUlGTn6U4T/xLdesfEn/AIKz/s56b4pn%2BGH7OOh%2BI/jX4yiO06H8MtMa9ggbOA097/qI48g5dWfbjkVzd94R/wCCqn7TtlLqvxX%2BKXhj9m7wYYzJc6V4VkTVvEHkAZZZr%2BQiC2wOfMhwVwcrWJ8M/wBp340eO/CkHw5/4JUfsB2fhnwcBi08ffEOwGg6Jg8efBZxAXF4rdfMHzZHzKa6Wy/4JeeJvjnexeJf%2BCiH7Ufif4pyCQSr4L0qVtF8NW7A5C/ZbYq85XgCRmUkfeBzXl%2B1x2ZfC5VE/wCS9Gl/4G/3k1/hSTPu/wDiGFbBe/xrm0MJ3w1D95X/AMMoUptwfR%2B3xNG3WmtUfNfj34ef8EbNC8UDwTHb/FD9qLx/Gc/2ZofiXU9fuJpc4Mks1tLFagbs7iGbbyStdR4I/wCCe/7QPxfCHwB%2BxT8Dv2cfDsn%2Bq1HX/Dlr4t8UBOzoJlaCIkdQxWRSevFfoN8MPg/8Kvgp4aj8G/CH4c6L4Z0uPGLHQ9NjtoyQPvMEA3N6sck9zXR1tS4aozfNX5V5U4qP3zlz1H98TajjPDrh2X/GPZFSlUX/AC/xihianqqNlhoPr7yrtd31%2BUPg9/wR0/ZL8Daja%2BLfjFb6v8WPENqP3OofEG9%2B1Wtvk5KQWKhbeOPOMIyPtxgGvqfSdI0nQNMg0XQtLt7KztoxHbWlpAscUSDoqqoAUD0AqxRXu4TAYLAx5cPTUb72Wr9Xq382zzs74n4h4knF5niZ1VDSMW7Qgu1OnFQp015QpwXqFFFFdZ4QUUUUAFFFFABRRRQAUUUUAFFFFABRRRQAV4z%2By/8A8lv/AGjv%2ByzWP/qFeF69mrxn9l//AJLf%2B0d/2Wax/wDUK8L0AezUUUUAFFFFABRRRQAUUUUAFFFFABRRRQAUUUUAFFFFABRRRQAUUUUARXtlZ6lZy6dqNpFcW9xE0c8E0YdJEYYZWU8EEEgg8EGuR8Afs5fs9fCjSLPQPhb8CPBnhqw09rprCy0DwvaWcNsbkKLgxpDGqoZQiCTAG8Iu7OBXZ0UAcp8J/gR8D/gLpV3oXwM%2BDXhTwXY39z9pvrPwn4dttOiuJtoXzJEt0QO%2B0AbiCcACuE8cf8pC/hf/ANkZ8ef%2BnbwhXs1eM%2BOP%2BUhfwv8A%2ByM%2BPP8A07eEKAPMP2BP%2BKT/AG0v2sfhN90WvxC0nxAsf/YU0/ziw%2Bvl19a18lfDAjwX/wAFnvih4azs/wCE1%2BC2i%2BINv/PQ2d21hu98bsV9a15OTe7hZ0/5alRf%2BTtr8JI/QPEn99nuHxn/AD/wmCqereGhTk//AAKhIKKKK9Y/PwooooAKKKKACiiigAooooAKKKKACiiigAooooAKKKKACiiigAooooAKKKKACiiigAooooAKKKKACiiigAooooAK8Z8cf8pC/hf/ANkZ8ef%2BnbwhXs1eM%2BOP%2BUhfwv8A%2ByM%2BPP8A07eEKAPZqKKKACiiuO%2BPHxs8Nfs/fDqX4ieJtI1PVN2pWOmaZouiQxyXuqahe3UVpaWkCyyRx%2BZJPNGu6R0jQEu7oiswAOxorx2H9tj4Zj9njVf2hdW8J%2BJtPXRNfbw/qvg%2B6s7dtYg1v%2B0E06PTNkU7wNPLdSwxxusxgcTxyCXy231S1X9vL4W%2BF/gN41%2BOHjjwV4p0O6%2BH%2BrnRvEvgW8t7ObW4tWaG2nttPjW2uZbaWa4ivbKSIpcGMrdRs7oA5QA9vrxn9g//AJIhrn/ZZviP/wCprrdelfDLx9o/xW%2BG3h74o%2BHba5h0/wASaHaarYw3qKs0cNxCkyLIFZlDhXAIDEZzgnrXmv7B/wDyRDXP%2ByzfEf8A9TXW6APZqKKKACiiigAooooAKKKKACiiigAqtrGsaR4e0q413X9UtrGxs4Wmu7y8nWKKCNRlnd2ICqAMkk4FeA/tNf8ABRz4T/AzxgvwP%2BGfhzU/if8AFW7BFj8PPBi%2BdcRN/fvJgCllGMgsz5YKQ2wryPmj9oPRrW/jsvif/wAFo/2kLKysJ5UuPDH7Nvw8u5Whnfd%2B6W4WBjPqMu7Ck5ESv0k2sVrxsZnNChzRpWlKO7bShH/HN6J/3Y8032RyYOeZZ5miyvIcNPF4qTtyU02ov%2B9JJ2tu0ryS1fItV7F4p/4KTePPj14lvfhb/wAE0Pgm3xKv7OY2%2BpfEbW5Hs/CmlSd8z8PesvUpDjIIZGcV5N8afhR%2BzV8F9d0/4o/8FcP2pLz4y%2BP3kWXw58LNMt2OnQzNwkdno0GDNnOzzrjaknG8Z5rufB1r%2B35%2B1X4Zs/BPwM%2BH1n%2Byt8HoIRDYS3GlxN4ou7XsLezTEWmgjI%2BbEikhlZhXuP7MP/BP79mj9lK6l8T%2BBPCU2reLb3Lar488VXR1DWr6Rhh3e5kGU3d1jCKccgnmvJjQx2atSkuZd5pxpr/BR0lPylVaXXlPto8A8MZDJVuNcb9bxC1%2Bp4WUXCL7Vq3v0YWe6j9aq7/w3t45od3/AMFM/wBrDSbfSfhj4T0X9mH4bCJYrCTUdNjvvFEtqBhRHaDbBYArkbG2yRnBUtXovwI/4Jf/ALLHwY8TD4m%2BJND1H4i%2BOpGElz46%2BJN%2BdW1BpByGTzR5cJBzgogYA43Gvomivao5RhozVSu3VmtnPVL/AAx0hHytG/mehjfEHOHhJ4HKIQwGFkrOnh04Oce1Ws269bzU6sYP/n0loiiiivVPhAooooAKKKKACiiigAooooAKKKKACiiigAooooAKKKKACiiigArxn9l//kt/7R3/AGWax/8AUK8L17NXjP7L/wDyW/8AaO/7LNY/%2BoV4XoA9mooooAKKKKACiiigAooooAKKKKACiiigAooooAKKKKACiiigAooooAKKKKACvGfHH/KQv4X/APZGfHn/AKdvCFezV4z44/5SF/C//sjPjz/07eEKAPMPjT/xRf8AwWM%2BCnib7n/Ca/C7xH4e3f8APT7GyX%2B33xuzX1rXyV/wUR/4pP8Aam/ZT%2BLX3fsfxan8P%2Bb6f2rZNDt/4F5WPwr61rycu9zF4un/AH1L/wAChF/mmfoHGP8AtHDuQYvvhZ0n60MVXh%2BEakAooor1j8/CiiigAooooAKKKKACiiigAooooAKKKKACiiigAooooAKKKKACiiigAooooAKKKKACiiigAooooAKKKKACiiigArxnxx/ykL%2BF/wD2Rnx5/wCnbwhXs1eM%2BOP%2BUhfwv/7Iz48/9O3hCgD2aiiigAry/wDa3%2BDfjP4z/DCwsfhreaZF4m8NeMNF8S6BHrc8kVldXGn38NybWeSKOR4kmjSSHzVjkMRkEgSTZsb1CigD5t8Hfsw/FdfgT8RfA/xc%2BGfgLxPqfxG1zUPE2q6KPGd/b6emoz3CeRYpdJp/nxRwW9vaFdQSMTfaEaRbeLC4810L/gk54mv/AIYeIru%2B%2BN2v%2BBvGmv8AjPV/FUdn4T8SR6/Y299daDbaHFHcX3iHT7q5v2W0tSWu2jin3XtyE2qUUfblFAHl/wADf2fdT8Efsi%2BEf2a/ih471jWLzR/Btjo%2Bsa5petSabdSyQwojGC505bSSJVK7UeMROUVd2WLE83/wTp8PWHhL9m6%2B8LaVcX0ttp3xb%2BIdtby6nqk97cuieM9aUGW4uHeadyBzJI7OxyWYkk17pXjP7B//ACRDXP8Ass3xH/8AU11ugD2aiiigAooooAKKKKACivMP2l/2yP2cP2RPD8WvfHj4mWekSXfGmaTGrXF/qDZwFgtog0knOF3AbQSNzCvA7v8AaB/4KPftfWssv7PHwjtPgN4DeNnk%2BInxVtll1mS3xkzW2l52QkD5szkoV5DCvOxOZ4XD1PZK86n8sVd/PpFecnFep5eKzfCYev8AV4XqVf5ILmlrte2kU%2B85R8kz6S%2BP/wC0n8Dv2XPAc3xI%2BPHxH07w7pUQIje8lzLdOBny4IlzJO/%2Bwise%2BMAmvin9oH9sf48/HzwRJ478ZfEKX9lz4EXO5Y/E2uADxp4tixnZp9ou57VWXoyhpMFXUupZR538PvhbpnxY%2BNtyv7Eel3Px0%2BIOlXHleJv2mvjRdyXuhaBOOTHpdtgxTyoTujCK4j%2BQhnQ7h9gfs/8A/BND4WfDrxsnx2%2BP/izU/i/8UWw8njTxqBIlkwOQtjaZMVoinlQAzLztYA4rwJYjNs7k4UUo09m03y%2Bd5qzn5xpWj0dV6n3kOAvqNOOI44xEsJBpSjgcO1LGVE1de3qNKnhISVtJXquLuqeqv88/sv8Awm/aF8c%2BEH8Ff8E%2Bvgon7PPw01IhtV%2BLXj7TxeeMfFAJJM8UEhygbcWV5W2gPuiKfdr6k/Zl/wCCdv7OP7Mmsy/EHTNHvvFnjy8JfVPiJ42vDqOsXUhGGYTScQg9MRhcjAYtjNe60V7GDyXCYXllP35R2bSSj/ggvdj6pOXeTZ2YzjPEU8seUZFQhl%2BBas6VC6dRf9P6z/e1292pSjTvtR6hRRRXsHxYUUUUAFFFFABRRRQAUUUUAFFFFABRRRQAUUUUAFFFFABRRRQAUUUUAFFFFABXjP7L/wDyW/8AaO/7LNY/%2BoV4Xr2avGf2X/8Akt/7R3/ZZrH/ANQrwvQB7NRRRQAUUUUAFFFFABRRRQAUUUUAFFFFABRRRQAUUUUAFFFFABRRRQBx37Qfxm0L9nf4HeLPjn4k0y6vrPwpoFzqUmn2O3z7xooyyW8W4hfMkYLGu4gbnGSBk1w/wv8A2tNTuNF%2BJUf7SHgDTvA%2BufCm2jv/ABXaaL4ik1mxOmSWP22O8guWtbaSQbUnjZGgRlktpAN6lHbuP2hPgzof7RPwN8WfAzxJqd1YWfivQLnTZNQsdvn2bSxlUuI9wK%2BZGxWRdwI3IMgjIrzbwJ%2Bx943kt/iC/wC0B8W9E8X3fxWsH03x3Jo/g6bSYpNPTT1sra1s42v7g2wVWupZGkadpJLptvlKqoADU/Yy/ao1b9q/wlqPje50fwJY2kD24trLwj8S4/EN7ZNIhka11SOK1ijsLyNTGHgSW4UMzASEKGY8cf8AKQv4X/8AZGfHn/p28IVQ/ZL/AGPfE37PPivUPHHjv4p6T4k1GXwNoHg7S08P%2BDv7EtrfSNIa8a1M0X2q48%2B6Y30u%2BVWjiCqixwxDduzb/wCEfwo8Df8ABTbwX498E/DHw9o%2Bu%2BJ/g944l8S61pWiwW93qzx6t4S8trmaNA85Xe%2BC5YjccdTQByP/AAWU/wCJF%2BzP4T%2BLf3f%2BEA%2BMPhjxD5v/ADz8u88ndnt/r/1r61r5w/4K7eDv%2BE5/4JufFrRhFvMHhtdQAx0%2ByXEN1n8PJzXtPwW8YD4h/Bzwl4/Eu8a54ZsNQD5%2B951ukmf/AB6vJo%2B5ndaP80Kcvuc4v9D9AzP/AGnwxyyr1o4rF0vRVIYavH72ps6aiiivWPz8KKKKACiiigAooooAKKKKACiiigAooooAKKKKACiiigAooooAKKKKACiiigAooooAKKKKACiiigAooooAKKKKACvGfHH/ACkL%2BF//AGRnx5/6dvCFezV4z44/5SF/C/8A7Iz48/8ATt4QoA9mooooAKKKKACiiigArxn9g/8A5Ihrn/ZZviP/AOprrdezV4z%2Bwf8A8kQ1z/ss3xH/APU11ugD2aiiigAoorlfjV8avhj%2Bzx8M9V%2BL3xh8W22i6Bo9uZby9uW69ljRRzJIxwqooLMSAATUznClBzm7JatvZIipUp0abqVGlFK7b0SS3bZf%2BIvxJ8AfCLwZf/ET4oeMNO0HQ9Mi8y/1XVLpYYYVyAMsx6kkAAcsSAASQK%2BTbr9sn9rL9ue5k8Mf8E6/h6fC/gt3MV38c/H%2BmNHBImcFtKsHG%2B6briSQbMgqyocNVH4U/Bb4of8ABTP4g6X%2B1H%2B2B4SudC%2BE2kXIvPhZ8HtRHzaif%2BWerasnR2ZTmOA5UK3dCxn97/a2/bB%2BE/7F/wAPbPUPEFhPqmuarIth4J8CaDFvv9cu%2BFjt7eJQSEBKhnxtQEDBYqjeDVxNXGUZV6lR0cOuu05rvd6wi/spJzldfDdI4cnyviDjjMKeDy2E1Gq7QjBWq1erld29lTsm%2BZ2lyJzlKnHVeQWfwF/Ym/4JieG7v9q79pPx9e%2BLfHd04S4%2BIPjWU3%2Bs6ldlTi20%2BE58onkKkQyqcO%2BxSRiWnwd/ao/4Ke3cXiX9qK11b4VfBB5Fl0z4VWd00OteJ4gcrJq0yYa3ibg/ZlweecFVlPWfsw/safE74h/FK2/bZ/b%2BmtNW%2BIewt4O8EwMJNK8CWzHIjhXJWW76b5znDD5SSoavq6owuW/WqVpw9nQ3VPZz/vVXe7vvyXf99t%2B6v1ihiuHfC%2Bj9S4cUK2PXx4tWlClJ7xwikmpTW0sZNSk5XeHjCKVWWP4A%2BH3gf4VeDrD4ffDbwnYaHomlwCHT9L0y2WGGBB2VVGMk5JPUkkkkkmtiiivooxjCKjFWSPzytWrYitKrVk5Tk2222223dttttttttttt7sKKKKZmFFFFABRRRQAUUUUAFFFFABRRRQAUUUUAFFFFABRRRQAUUUUAFFFFABRRRQAUUUUAFeM/sv8A/Jb/ANo7/ss1j/6hXhevZq8Z/Zf/AOS3/tHf9lmsf/UK8L0AezUUUUAFFFFABRRRQAUUUUAFFFFABRRRQAUUUUAFFFFABRRRQAUUUUAFFFFABXjPjj/lIX8L/wDsjPjz/wBO3hCvZq8Z8cf8pC/hf/2Rnx5/6dvCFAHW/tP%2BDv8AhYf7NXxD8A%2BVvOt%2BB9WsAmOpms5Yx/6FXnv/AAS38Y/8Jz/wTx%2BEGt%2Bbv8nwRaWBbPe0Btcf%2BQcV706JKhjkQMrDDKwyCPSvk3/givI%2Bj/sRx/CyVyZPAnjvxFoDqx5Ux6jNLg/hOK8mr7md0n/NTmv/AAGUJL82foGA/wBq8LsfT60MXhqnyq0cRRk/vhBH1nRRRXrH5%2BFFFFABRRRQAUUUUAFFFFABRRRQAUUUUAFFFFABRRRQAUUUUAFFFFABRRRQAUUUUAFFFFABRRRQAUUUUAFFFFABXjPjj/lIX8L/APsjPjz/ANO3hCvZq8Z8cf8AKQv4X/8AZGfHn/p28IUAezUUUUAFcd8ePjZ4a/Z%2B%2BHUvxE8TaRqeqbtSsdM0zRdEhjkvdU1C9uorS0tIFlkjj8ySeaNd0jpGgJd3RFZh2NeX/tb/AAb8Z/Gf4YWFj8NbzTIvE3hrxhoviXQI9bnkisrq40%2B/huTazyRRyPEk0aSQ%2BaschiMgkCSbNjAGbD%2B2x8Mx%2Bzxqv7QureE/E2nromvt4f1XwfdWdu2sQa3/AGgmnR6ZsineBp5bqWGON1mMDieOQS%2BW2%2BoNM/bHvPEfhLUNW8F/ss/ErW/EOg%2BJpNC8WeBLBtDXVNBu1tIb0faZJtUjsmV7a6tJkMNzKXW6jwM7gvLeDv2YfiuvwJ%2BIvgf4ufDPwF4n1P4ja5qHibVdFHjO/t9PTUZ7hPIsUuk0/wA%2BKOC3t7QrqCRib7QjSLbxYXHm1t%2Bw3%2B2D8M/gF4p8DfAqfwjYa38Wviedf%2BKEN58VdbM1jpH9mWmntY6frk%2Bn3V5PdzRafbiS%2BnhSRPtFw0QjYQtGAfW/wc%2BLHgz48fCXwz8bPh1ezXGgeLdBtNX0aa4t2ike2uIlljLxt8yNtYZU8g5B6V57%2Bwf/AMkQ1z/ss3xH/wDU11uuy8L/AAt024%2BAulfB7XfCUHhKzg8PW2mvoXgLxReW0OkxRRqi29lfW62lwkcaoESRFhbao%2BVelef/APBOnw9YeEv2br7wtpVxfS22nfFv4h21vLqeqT3ty6J4z1pQZbi4d5p3IHMkjs7HJZiSTQB7pRRTZpobeF7i4lWOONSzu7YCgckknoKAOU%2BOnxv%2BGv7OHwo1r40/F3xEml6BoVoZ725YbmY5CpHGvV5HYqiqOSzAV8s/BT4BfFb/AIKC/EvSv2wf22vCs2jeCdJuBd/CX4M33KQL/wAs9V1ROktyy4KRMMIDyMZDUvCcM3/BV39p6L4manE0v7PPwk1xh4WtJV/c%2BOPEMRKtfMp4ks7c5VM5Dk9w0iL7b%2B2t%2B2ton7LGiaZ4Q8IeGZfGHxO8YSm08A%2BAdObNxqNwePOlx/qrZOryHAwpAPBK/OVa9DHJ4rEO2Gg/dX/PySfxNbyjzaU468z96zXKjgyDI8z8Qc6p4XB03UpuX7uOijUcbuVWpJ2iqNPlck5NQtCVWb5VBN37aP7a3h/9lfR9K8I%2BFvC8/jH4meL5jaeA/AGmP/pOpTnjzZCP9TbJ1eU4AAOOhI5r9j/9h/xJ4L8cXP7Wn7XfiiDxp8adct9kl%2Bq5sPC9qwONP02M8RooYq0v3ny395y9r9ir9irW/hDrep/tK/tK%2BJovGHxr8YRA%2BIfEJXNvpFueV0zT1P8AqrePgEgAuVyeAAPoyuvD4atjayxWLVrawh/L/el0c/vUNlreR%2Br5vnmW8M5dUyHh2opua5cTildOv3pUW7ShhU1b7M8S1z1LU/Z0Qooor2D83CiiigAooooAKKKKACiiigAooooAKKKKACiiigAooooAKKKKACiiigAooooAKKKKACiiigAooooAK8Z/Zf8A%2BS3/ALR3/ZZrH/1CvC9ezV4z%2By//AMlv/aO/7LNY/wDqFeF6APZqKKKACiiigAooooAKKKKACiiigAooooAKKKKACiiigAooooAKKKKACio729s9Os5dQ1C7igt4ImknnmkCpGijLMzHgAAEknpWB8LfjD8JPjj4VXx38FPil4c8YaG1w8C6z4W1u31C0MqY3xiaB3TcuRlc5GeaAOjr4i/4KQftH61%2Byd%2B37%2BzZ8ZrmBm8Hjwx400f4g3AXK2OmXt/4WiW7c/wrFdfZWJ6kHaPvV9i%2BGPiJ8P8AxtqmtaH4M8daPq974b1L%2BzvEVnpepxXEul3nlJN9nuUjYmCXypY5PLcBtsiNjDAnwj9qb4P%2BDPj/APtXeEfgt8QrH7Ro3ib4B/EKwvkAG5FfVPCAEiE9HRtrqezKD2rmxlOvVws40ZWnb3X5qzV/J2s/Js48wpYmtgpxw8uWpa8X05lZq/k2rPykz6OjkSVBLE4ZWAKspyCPWvkv/gmX/wAUp8Xf2n/hIfl/s349X%2BtRRf3ItSgimUD0H7s4rT/4JbfF/wAZ6l8Ltd/ZM%2BNd9v8AiF8ENWHhrXHcndf6eFJ06/UHkpLbgAMeWMRY/erlJfFZ/Yh/4KfeK/E/xTsvsvgP9o%2BPRbfQfFCyYttN1/T7VrcWVxkYjNwrFlcnBO0c4cp49bGU6yweO2ipNSv9nmi4NS7WmlF9L26O5%2BieHFf/AFk4YzjAYdXq18PTqQp/alUwuIVSpBLrOFN13yr3mqcuVPY%2BzaKKK%2BhPhwooooAKKKKACiiigAooooAKKKKACiiigAooooAKKKKACiiigAooooAKKKKACiiigAooooAKKKKACiiigAooooAK8Z8cf8pC/hf/ANkZ8ef%2BnbwhXs1eM%2BOP%2BUhfwv8A%2ByM%2BPP8A07eEKAPZqKKKACiiigAooooAK8Z/YP8A%2BSIa5/2Wb4j/APqa63Xs1eM/sH/8kQ1z/ss3xH/9TXW6APZq%2BOf22/iX44/a2%2BMqf8EzP2cvEE9ilzax3nxv8ZWLf8gDRXwf7Pjbp9qulO3aeiNyCrOU9r/br/aNj/ZP/ZO8a/HKAo2o6VpLRaBAyb/O1KdhBaJt/jHnSISB/CGPasH9gr9mfSf2Qv2boZ/HOoeZ4w8QRHxF8UfE%2Bq3AM13qsqebcvLK2P3cRLIucAKpY8sxPj49zxmIWBi7RtzVH/dvZRXZzs7vpBStq9PCzH2uZYyOV0rpNKVRrfkb5VBW1vUd02tVBStrJWh/aR%2BM/wANf%2BCbv7Kel6J8K/AMVxdw/ZvDfwy8DWOfM1TUZfkggAHzNzmSR/vNhjkuwzR/Yo/Yq1z4R61qX7S/7S3iWLxf8a/GEIPiHxAy5g0e3PK6ZYKeIrePhSRguVyeMAeefsnadf8A/BQD9qa9/wCCg/jWxm/4V94MkutC%2BBGk3cZC3GGMd5rpRv4pGUxxkjIVcEBolY/aFZ4GlDMKyxcl%2B6jpSj0stPaW7vaHaCurOVz9qz6ouAsl/wBV8FaGJqRX12cbXV%2BWUMFFraFFcrrxjZTrvkleNBRCiiivcPzIKKKKACiiigAooooAKKKKACiiigAooooAKKKKACiiigAooooAKKKKACiiigAooooAKKKKACiiigAooooAK8Z/Zf8A%2BS3/ALR3/ZZrH/1CvC9ezV4z%2By//AMlv/aO/7LNY/wDqFeF6APZqKKKACiiigAooooAKKKKACiiigAooooAKKKKACiiigAooooAKKKKAPIv2%2B/h941%2BK37FHxT%2BHHw70aXU9Z1nwNqNrZaRA4V9TLQNus1LEKDOm6EbiFzJyQMmvLPgxrvxL8UeNPjv8UfgD8PNX8NXfj2xs4/hjD8RfA%2Br6NZ3Os6foqQve30MtqJrS3Mj2dtuljR5lsH8lZFRGP1hRQB8ff8Etvgt8f/gT4/8Ajh4S%2BMHwc0nw5Y3Xi3SLyx1rT/Ft5q51%2B8bQdPW9vTPcaXYi5aWdXllnVebmW4jKDyg791f6b8V7T/gpt4LvPG3jTw9qGhXHwe8cHw1p2leGJ7O7sEGreEvMW5uZL2ZLsnKYKQ24Xachtw2/Q9eM%2BOP%2BUhfwv/7Iz48/9O3hCgDxz9umKb9jj9qrwJ/wUc0KJovDd4YvBfxnjiU7P7LuJALPUnA4zbz7QzcsVMaDAJr6P/aJ/Z/%2BF/7V/wAFdY%2BC3xS0xb7RNdtMCaFh5ltIPmiuYX52yI2HVuRxgggkHV%2BMnwn8G/HX4VeIfg58QdPF1oviXSZtP1CLjcEkUrvUn7rqcMrdQygjpXzz/wAEuPjL4li8C65%2BxP8AG7W43%2BI3wT1E6FerNJtl1XSFAOn6iisdzRvA0a55PyqWwXFeI6dPD4%2BeHqJOliLtJ7c9vfj/ANvxtJecZdTystx2L4a4lhWwtR03UkqlOUXZwrws3yvo5JRmu8oz0d2mn7B/7QvxL8F%2BOtS/4J7/ALXOsed8R/BtmJvC3iSfKp400EZEN7GWPzToo2yrktlSSWKyEfVleEft4fsg3f7TngXTfFXwy18eHPil4EvDq3w48WR/K1peLgtbSnB3W8wUJIpBHRirBSrJ%2Bw5%2B274Z/ar8HTeG/F1vb%2BGfil4Ylew8f%2BAbqYJd6dewtskkjjY7nt2b5kcbgN20sSDVYOtPBV1ga8r/APPuT%2B1FfZb6zh98o2lq1I/XuJMvw3FGVy4pymkotNLGUYLSjVltWhFL3cPiHdqy5aNbnpNxjKie8UUUV7J%2BbBRRRQAUUUUAFFFFABRRRQAUUUUAFFFFABRRRQAUUUUAFFFFABRRRQAUUUUAFFFFABRRRQAUUUUAFFFFABXjPjj/AJSF/C//ALIz48/9O3hCvZq8Z8cf8pC/hf8A9kZ8ef8Ap28IUAezUUUUAFFFc78V/iv4B%2BCPgK9%2BJnxN1xtP0eweCOaaKzmuZZJZpkgggiggR5Z5pZpY4o4o0aSSSRERWZgCAdFRXndl%2B1b8BL74F3X7SKeOmh8IWMk8N9e3mkXdvc21zDcm0ktJLKWJbpLoXKmD7K0QmMuIwhchTj3/AO3L%2BzXpvw6tfibdeKdd%2ByXniJ9Bt9Hi8CazJrjaokL3D2Z0hbQ6gsy28b3BQ24IgXzjiP56APXK8Z/YP/5Ihrn/AGWb4j/%2Bprrdeo%2BBfG/hH4meCtI%2BI3gDxBbatoWvaZBqOjapZyboru1mjWSKVD3VkZWHsa8q/YbvLTTvgL4h1C/uY4YIPjF8SJJppXCrGi%2BNNbJYk8AAAkmjYNjyj9sj/jJ79vr4M/sZWv7/AEPwg7/Er4gxDlDHasYdNgfsQ9wzbkPVWVsHFH7fnjXxV%2B1H8XNG/wCCYfwU1ua0fxDarqvxk8QWTfNonhtWGbUMPuz3RwgU/wADDcpSQkcd%2ByB8WLfRfgz%2B0N/wV38cWPmf8Jhe39z4Rgu8qW0DSI5LbT4BnlGmlRlYDAZgjd69e/4JhfALVfhx8Bh8d/ifePqXxJ%2BMBi8VeOdXuI9sm%2B4TzLezUfwRQRSBAnRWL4wCAPkaPPmUnBaKu3OT7UYvkhFedSz9Iyk%2BqPqvDCNDJcnxfHeJSlU9ryYSLV063I3SqST0cMNRTxFndSrVKCaspX9/8D%2BCfCvw28G6X8PvA2iQabo2i2EVlpen2y4S3gjQIiD6ADk8nvWrRRX1sYxjFRirJHzNWrVr1ZVaknKUm223dtttttu7bbbbb1bbYUUUUzMKKKKACiiigAooooAKKKKACiiigAooooAKKKKACiiigAooooAKKKKACiiigAooooAKKKKACiiigAooooAK8Z/Zf/5Lf%2B0d/wBlmsf/AFCvC9ezV4z%2By/8A8lv/AGjv%2ByzWP/qFeF6APZqKKKACiiigAooooAKKKKACiiigAooooAKKKKACiiigAooooAKKKKACiiigArxnxx/ykL%2BF/wD2Rnx5/wCnbwhXs1eM%2BOP%2BUhfwv/7Iz48/9O3hCgD2avB/2tf2A/hf%2B09qll8T9F1zUfAnxO0NAfDfxK8LP5N/aEA7Y5gCBdQckGJz90sFZdzZ94orDE4ahi6TpVo80X/Sae6a6NNNdGc2LweGx1B0a8VKL791s09Gmt00009mfHvw9/b1%2BLn7L3jGw%2BAf/BTzw7Z6FcXk4tvDPxl0aIjw74gP8IuDgfYLggZZWCp944jQKW9N/ac/YH/Z7/a0msviROLvw343so0m8O/EzwVe/Y9VtSF/dsJ4%2BJ48HhX3DaTtKk5r1v4hfDrwJ8WfB1/8PfiZ4R0/XdD1OExX%2Bl6parNDMvurDqDggjkEAgggGvlO2/YS/a%2B/ZIDv/wAE9P2oIJfC0MrSWvwk%2BK1vJfaZbqTuMNrfIftNug5Cp0ycs5OTXjV8PiaNN0a8HiKPy9pH1u489ukouM15vUnJc84s4JzCOLy6tUko3SnBpVYp7xmnaNaDWjUk3JaThPcrRftSftk/sCSLof7dvg6T4jfDqBglv8a/Aulk3NjF0Datp6ZMeP4posqOB%2B8Ymvqr4T/GT4VfHXwdbfED4O/EHSvEmjXSgxX%2Bk3izICRnawByjjujAMDwQDXzNaf8FSNQ%2BDdzH4T/AOCiH7Lfir4TTSOID4qt7c614auSflGLy2VjGWyD5bK20H5mGKiP7AX7CP7Rt3J8e/2KPi3L4B8R3H7z/hLvgp4pSGKRiSwW4tYmaBlJzuj2IzchjWWFxdaEnDCVFVS/5dzbhVj6OSTa/wAcf%2B32foWG4o8OOOZNY7/hPxv2p0abdKT71cI5QqUXfeWGcqb1fsYn2HRXx9/wk3/BWf8AZR%2BXxZ4R8MftGeFLfrqWgFNC8Sxxjq727Zt5yBjCR5djnJHWui%2BHf/BXn9jLxRrqeCPih4m1n4V%2BJsDzvDvxT0OXR5oj0O6WQGADPHMg%2BlehDOcGpKFe9KXaa5fulrB/KXyN8R4bcSzoyxOUqGPopXc8LL2zS7zpJRxFPz56Fl/Mz6foql4e8SeHfF2jw%2BIfCmv2Wp6fcrut77TrpJ4ZV9VdCVYfQ1dr1E1JXR8HOE6c3Caaa0aaaafZppNPyaQUUUUyQooooAKKKKACiiigAooooAKKKKACiiigAooooAKKKKACiiigAooooAKKKKACiiigArxnxx/ykL%2BF/wD2Rnx5/wCnbwhXs1eM%2BOP%2BUhfwv/7Iz48/9O3hCgD2aiiigAryD9tj4b%2BPviH8J9Ivvhl4ZbXdY8J%2BP/DvieHw6l3DA%2BrRafqdvcT20ck7pEsxhSQxeY6RmVYw7opLr6/RQB8n%2BFfgT478T/s7fFDw98Y/2fvGdtd%2BO/G95440/QPDmv6MupaXcJfwSadbwzte/Zl1KI2Freks5tBK%2BzzpQGz598LP2Xf2pvg54xtf2utT%2BHHjXx1reofGTVfEmr%2BCNZ8Q6B/wkaaddeFbLQopnlimttJ%2B1LJpkMjQwSpFHb3TIjO8W2T7xooA8a/Zb%2BAvxD%2BGP7FfhP4F%2BJPGd14Z8UWvh1U1LVPDJtbh9JvJXM0sdsbuCaCVYnkaJWkhZWVAdgyAPlX4neP/ABr8Lf8AgmBqnwI8F%2BLb7W/HfxQ%2BOvjjwD4e1PUVgS6vri98ba1FcXUotYookYwCZmaKONEd1wqjAr9D6/Nz9hu1uf2oP%2BCg%2Bs213bvJ4Y/Zw8bfESXa6nZJ4j1jxjrTIfRglkAwPJR17Zry83nN4T2EHaVVqC8ub4n8oKT%2B48XPZ1Hgfq1N2nWappropX53/wBu01N%2Btj0X/goV8MtC8Ifsv/BT/gmp8OC6Wvj3xjofhaVI/lkOi2Gy4vbk45LDyYmf18xsnnn7btra3sraOztIEiiiQJFFGuFRQMAADoAK%2BR0x8f8A/gsk7f67SPgF8MQo7iDXNaOfw3WK/XK19d1llcISxFetFWjdU4/4aatp/wBvOX3H6zxZThk3DWSZFTVuSi8RNdp4qXNBf9u4ajQS8peYUUUV7J8AFFFFABRRRQAUUUUAFFFFABRRRQAUUUUAFFFFABRRRQAUUUUAFFFFABRRRQAUUUUAFFFFABRRRQAUUUUAFFFFABXjP7L/APyW/wDaO/7LNY/%2BoV4Xr2avGf2X/wDkt/7R3/ZZrH/1CvC9AHs1FFFABRRRQAUUUUAFFFFABRRRQAUUUUAFFFFABRRRQAUUUUAFFFFABRXmH7afxf8AFPwD/ZM%2BIfxj8DR2p1vw/wCFLy60d76Ivbw3QjIillUEFokcq7rkZVWGR1HJfs56/wDGg%2BPPi7%2BzN44%2BOOqeKb7wiulzeHvHmqaNp0V/Emo2Bby5orO3gtZHgnhlkXEK5jmiRw5Uu4B75XjPjj/lIX8L/wDsjPjz/wBO3hCsX9ijx38T/F/jT4l6Lqfxn1j4keBfD2tWumeFfHfiDS9Otrm%2B1KJJU1a2jbTrW1t7m2t5lhiWZYQfP%2B1xF38niC/%2BJ3hvxj/wU28F%2BDNJ03xDDeeHvg944jv5tV8I6jY2kpfVvCWDbXVzBHBegbTlrd5AuRuI3LkA%2Bh6KKKACiiigCHUNPsNVsZtM1Syhuba4jMc9vcRB0kQjBVlPBBHY182fEv8A4JF/sPePNebxr4S%2BHN78PPEmS0PiP4Z6xNotzCxOSUSE%2BQDnnJjJr6ZormxOCwmMilXpqVtrpO3o918mjjxmX4HMIqOJpRnba6Tt6PdfJo%2BQ/wDhlr/gp38Bv3v7Ov7dmmfEHTIf9R4Z%2BNnh8yyYHZtStP38jEccgDP1NYfxC/aY/aeXQG8Jft0/8EiL7xjoa58%2B%2B8A3Nj4pt5uMF0sJQJY/%2BBNmvtiiuCWUcsXGhWnFdm1Uj/4DUUtPLmOShluKy6tGtluMq0JRd1abkk%2B653zR/wC3ai9T8sdHuP8Agj5qXi6ab4F/tJfEX9lzxvK4e509b3UNCj39B9ogu1e1KdiiyIOK948C3f8AwU%2B8O6d/bHwA/a/%2BC37ROgxAHGtWi6dfNH2WOfTneBm6DfIeevWvrvxz8Nfhz8T9JOgfEvwBoniKxOc2WuaVDdxHPX5JVYfpXz945/4I7/8ABPPxpqP9vad8BIvC2qKSYNU8FavdaVJAT3RLeRYh/wB8GvMeS47Du9DlX%2BCU6L/8BXtKb/8AAUfdw8TPEtQVPNHhs0gtLYukpTt2VVp1V5Wr6dEkrGF/w8u%2BM3wmP2f9r3/gnd8T/CKR8T674OSHxNpcY/56STWxUxKeuNrEdK7r4U/8FTP%2BCfvxjlWz8J/tR%2BGrS8ZthsPEc76TOH6FNl6sRZs8YXPtmuF/4ds/tB/Dj5/2af8Agp38W9BVOYLHxyLbxPaxeiLHcqm1e2MnHvXE/Fb9kn/gpD4niaP4o%2BB/2YPjpaquGm8ZeDZ9O1Vx6xyRK0cTe%2BRjtS%2Bs8Q4X4oOS84xn/wCTUpRf30yv9buBcd/yNOH8ThJdZYPEQrQ9fY4i8reSq/ifc%2Bl6rpeuWEWq6LqVveWs67obm1mWSOQeqspII%2BlWK/JfU/2UfiL8JtQl1ix/4JofGv4VXZffLr37OPxvW/8APb%2B8LOQuUHbZxkelRD9uH9o34EnM/wC2z8WPC1rD/wAwX9ov9nqRwuP%2Bel9YebOR9F96f%2BtHsP8AeqLj5ptfhUjTf/kwcnhjjf8AdOIFQf8ALjcLicM15OpCOIo/O8V1P1tor80PAX/BbP462YRNf0b4CfEWLo1z4O%2BKv/CNysP7wt9dVJHb/YAyT0r2Dwl/wWo%2BFlzbGf4m/svfFvw7DGMz6vZeG49X0tB3IurOVw34LXbR4myWt/y85fVNfiuZfiehh%2BAc7zNXyithscnt9VxeFrN/9w1Wp1fl7K/kfZ9FfOvw9/4Kz/8ABOj4lssOh/tXeGbGUna0PiR5dJZG7qftqRDIPHXFe3%2BDPiZ8N/iPafb/AIefEDRNeg2587RdWhukx65iZhXqYfHYLFL9zVjL0kn%2BTv8AgeNm3C3E%2BQNrM8DWoW/5%2BUqkF98oKP8A5MzbooorqPCCiiigAooooAKKKKACiiigAooooAKKKKACiiigAooooAK8Z8cf8pC/hf8A9kZ8ef8Ap28IV7NXjPjj/lIX8L/%2ByM%2BPP/Tt4QoA9mooooAKKKKACiiigAr5m/4Jm/Cjwp8JfhZ8VPH0U6LdeMv2h/iPret3kuAE8vxVqdqi7j/AkVsp9AWc96%2Bma%2BFPjF8X9Q%2BDX/BKH4t6t4eLtrWvfFP4i%2BHdBghP72W71DxzrNooj/21WV5B/wBc65MbVpYbDyxNRX9mpS/B/nt8z1cgyKpxLxFgstpL95Wqwpxf8rqSUHL5Rcm/KL1W52n/AASKtbn4g/DP4hftiaxbuLr4y/EzU9ZsHlUh00m3la0soSDzhBFLjPZhX1vXFfs3fCDT/gB8APBnwT0wIY/C/hqz055IxxLLFCqySfV3DOfdjXa1GWYeeEy%2BnSn8SXvf4n70v/JpM9XjjOcPn/F2Nx2HVqMqjVJdqVNKlRXypUqf3vuwoooruPlQooooAKKKKACiiigAooooAKKKKACiiigAooooAKKKKACiiigAooooAKKKKACiiigAooooAKKKKACiiigAooooAK8Z/Zf/AOS3/tHf9lmsf/UK8L17NXjP7L//ACW/9o7/ALLNY/8AqFeF6APZqKKKACiiigAooooAKKKKACiiigAooooAKKKKACiiigAooooAKKKKAMzxp4N8K/EXwdq3w%2B8daBa6romu6bPp%2BsaXexB4by1mjaOWGRTwyOjMpHcE1wPgX9jf4D/DfwxqvhPwhp3ieC311bv%2B3Lu5%2BIWt3N7qLXFrFaM895NePcTSJbwQxQyPIWt1jUQmPFeo0UAed/s5fss/B39lDwevw/8AgjbeJLPQ4bS2tbLStb8d6xrMFhBAhSKK1TUbqcWqBWxth2BgF3A7Vxzvjj/lIX8L/wDsjPjz/wBO3hCvZq8Z8cf8pC/hf/2Rnx5/6dvCFAHs1FFFABRRRQAUUUUAFFFFABRRRQAUUUUAFBAIwRkHqDRRQBwPjz9lP9mD4pF3%2BJP7OvgbXnflpdX8KWlw%2BfUM8ZYH3BzXkHi3/gjZ/wAE2vF1x9vl/ZksNMulbdFc%2BH9XvtPaJvVRbzov5qRX07RXFWy3LsTrVowl6xi/0v8AiefiMoyrFu9fDwl6wi39/Lf8T4g%2BIf8AwQY/Za8cwiG0%2BNHxZ0%2BJP9TYy%2BLY9QtB6AxXkEu4D0zXjvjP/g200y6v4tW%2BHv7X1xpk1q%2B%2B3S58BWytntmWznt2H1wa/UGivMr8K8P4jWdBfJyX5SPVyvF5pkKSyrG4jDJbKjicTSS9Iwr8n/kh%2BW1v/wAEmv8Agr98J5lPwK/4KMw/ZIf9Vp994q1iCEgekMi3MYP6Vs2Xh/8A4OTvhS2y18SeCvH0EX%2BrguZtKywHbe8do5%2BrNmv0worKPC2DpfwK1an6VZW%2B6XMj0KvEXFVdfvswqVP%2BvsMNW/GrhXJ%2BrqN%2BZ%2BdWn/t8f8Fufh5iP4uf8EwtP10R8SN4TuZAzj6xXF2M/QY9q29P/wCC2PxV8MY/4Xv/AMEtPjV4XVf9bJZaTNdKB3IM9vbAj8a%2B%2BqK2jlOaUv4eOn/29GnL9Is8ytjM0q/E6L/7l4Rf/lKrBL5RPiHw5/wcC/8ABP8A1C7%2BweN5PHXg6cHDxeJPCD7k%2BotXmNek%2BD/%2BCwv/AATU8c3CWui/tZ6BAznAOsWd3pyj6tdQxgfia%2Bj77T7DVLc2epWMNxE33op4g6n8DxXA%2BJf2Qv2TfGdw154w/Ze%2BHerTOcvLqXgmwnZj7l4iTWqo8Q09q1OXrTlH/wBJm/yOGcs0bbSpeWlVff78/wALEOhftnfse%2BKJ1tvDX7V3w11CRjhY7Hx1p8rE/RZia9A0nXNF1%2B1F7oWsWt7CwyJrS4WRT%2BKkivnzxl/wSO/4Ju%2BO7h7nW/2R/DEDOcsNG8/TlH0W0kjA/AV534q/4IEf8E3tcfzvDXw/8SeGJR92bQvF92zIfb7U01Dq8QQvejSl6TnH/wBKg/zJj/az5U1S89aqXy9yT/A%2B0aK%2BD7n/AIIT%2BDvD8YX4Rft2fHXw2VH7tf8AhLElRPoIo4Tj8ayr3/gkx/wUF8M5l%2BGn/BY74iSgf6q18QxXkyr6De19IP8AxwVEsyzin8eBb/w1Kb/PlZ106GZVNvY/Os4/hOh%2BqP0For85Lz9jX/gvx4OzJ4E/4KK%2BEtXRPurrFuPMb8JtOmX82rJvbP8A4OXPBIPkar4J8X7P%2BeKaLHv/AO%2B1tv6VjLiCtT/iYKuvSMZf%2Bkzf5HoU8nz2t/Do05f4cXhPynVpM/TGivy9vv2wv%2BDhj4fRk%2BIP2MdC1h0%2B8sXhn7WG/Gx1Hn8BWdH/AMFhv%2BCsvhIn/han/BO6PTlQ/NLN4H8Q2qN7hsTDH4ms3xZlsHapTqx9aU/zs0dsOFeMqsb08rrTX/Tt4er9yp4ybfyiz9U6K/KO6/4ONfiv4PnW08d/siaN5xbHlDxLf6eSfTNzYED8TXV%2BGP8Ag4ttdYjWXV/2StPtARyI/jPpLEfhKkRohxjw9N29tZ%2BcZf5CxHC/GuDp%2B0xGS4%2BEe7wOKa%2B%2BNGovubP0xor4D8P/APBfD4dawQp/ZZ8X3hPVfDfiPR9TP4CK6Ga7jQ/%2BCynw91iLzpP2Iv2j4UAy0y/DATRfUPFctke9dtPiLJKvw1l90v8A5BnzWLxsMu/3ynVo/wDXyhiKf/peHifYleM%2BOP8AlIX8L/8AsjPjz/07eEK8w/4fL/sv2X/IzfDH4vaLj739qfDG9Tb9dgaqnwU/bb/Z9/bG/wCChfgxPgbr2qXcvhv4M%2BMv7Yh1Tw/d2DwfaNW8K%2BVj7RGm/PkSfdzjbzjIz1UM1y3E1VTpVouT2V9fuaRz4bO8oxdZUaNeMpvZX1dtdmk9j7Aooor0D1ArN8YeMvCHw88L3/jjx/4r03Q9F0u2a41PWNYvo7a1s4VGWkllkISNAOrMQBWlXiH7f3hvxFrvwT0bVtE8Kalr9p4b%2BJfhXX/EGh6Pp0l5dXmm2OtWlzcGK2iVpLl4Vj%2B0iFFZ5Ps%2B1FdyqkA9M034w/CPWfhkPjXo/wAU/Dl34MOnvfjxbba5byaZ9kQEvcfalcxeUoVsvu2jacniueuv2vP2TrH4XQfHC9/af%2BHcPgq6vjZW3i%2BXxrYLpc1yNwMC3Zl8ppBsf5A275W44NfK3iPwr408YfsM/Gnw/onwe8axHxr8SbzxV4a0F/CF/bajp%2BjT65bGTUYbaSFSb5Wgu9Vj05x58jPGssOZmQ%2Bcw/Db4qWl/D8R7u8%2BOenaNJ8d9c1i1%2BNmmfCiSbxrdwzeErKxS4ufD/8AZMkcUck63FgJf7KjUQ6dbv5aNObtgD9K9K1XS9d0u21vRNSt7yyvLdJ7O8tJlkinidQySI6khlZSCCDgggivznsv%2BL4fHn4I/sow/vrHTP2g/ij8RPFUPURw6b4x1xLEsO6vcvIhB44HWvrH9jnwN8WvBv8AwT8%2BGnw4sdB0rwH4u0n4caVYQ6dq%2BkT31tpM0VtHGEmthdxyuQq/NH9p3KxIMjYyflf/AIIueBPHfiz9pz9oz47/ABS1Ox1O%2B8LfEvxN4D0nU9M017S2kYeJtT1LUfKhkmmaFGuLiJ1jMshUNguxG4%2BVmsZVoUsOtpzjf/DH35ffypfM%2B%2B4ArUstxGPziTtLC4aq6f8A19rWwtK3nF16k/8At2/Q/ReiiivVPgQooooAKKKKACiiigAooooAKKKKACiiigAooooAKKKKACiiigAooooAKKKKACiiigAooooAKKKKACiiigAooooAKKKKACvGf2X/APkt/wC0d/2Wax/9QrwvXs1eM/sv/wDJb/2jv%2ByzWP8A6hXhegD2aiiigAooooAKKKKACiiigAooooAKKKKACiiigAooooAKKKKACiiigAooooAK8Z8cf8pC/hf/ANkZ8ef%2BnbwhXs1fOH7R%2Br/GvR/28PhPP8Dvh/4W8Rak3wj8drd2nivxhc6LBHB/anhIl0lt9PvWd920bDGowSd%2BQFIB9H0V4z/wnH/BQv8A6Nf%2BDP8A4fjVv/mXo/4Tj/goX/0a/wDBn/w/Grf/ADL0AezUV4z/AMJx/wAFC/8Ao1/4M/8Ah%2BNW/wDmXo/4Tj/goX/0a/8ABn/w/Grf/MvQB7NRXzj4B/aO/bt%2BInivxv4Q0f8AZQ%2BEkNx4D8URaFqslz8ddUCTzyaVp%2Bph4tvhgkp5OowqSwU70cYwAzdR/wAJx/wUL/6Nf%2BDP/h%2BNW/8AmXoA9morxn/hOP8AgoX/ANGv/Bn/AMPxq3/zL0f8Jx/wUL/6Nf8Agz/4fjVv/mXoA9morxn/AITj/goX/wBGv/Bn/wAPxq3/AMy9cv8ABH9o79u348fBjwh8cfCv7KHwktdL8Z%2BF9P13TbbUPjrqizwwXdtHcRpIE8MMocLIAwVmGQcEjmgD6Oorxn/hOP8AgoX/ANGv/Bn/AMPxq3/zL0f8Jx/wUL/6Nf8Agz/4fjVv/mXoA9morxn/AITj/goX/wBGv/Bn/wAPxq3/AMy9cv8AF39o79u34NeFLTxf4j/ZQ%2BElzb3nijRNCjjsvjrqjOJ9U1W10yBzu8MKNizXcbOc5CKxAY4UgH0dRXjP/Ccf8FC/%2BjX/AIM/%2BH41b/5l6P8AhOP%2BChf/AEa/8Gf/AA/Grf8AzL0AezUV4z/wnH/BQv8A6Nf%2BDP8A4fjVv/mXo/4Tj/goX/0a/wDBn/w/Grf/ADL0AezUV846t%2B0d%2B3bo/wAZ9A%2BB1x%2Byh8JG1TxF4X1fXbO5T466p5EcGnXOm28yOT4Y3B2bVICoCkEJJkqQobqP%2BE4/4KF/9Gv/AAZ/8Pxq3/zL0AezUV4z/wAJx/wUL/6Nf%2BDP/h%2BNW/8AmXo/4Tj/AIKF/wDRr/wZ/wDD8at/8y9AHs1FeM/8Jx/wUL/6Nf8Agz/4fjVv/mXrl/AP7R37dvxE8V%2BN/CGj/sofCSG48B%2BKItC1WS5%2BOuqBJ55NK0/Uw8W3wwSU8nUYVJYKd6OMYAZgD6Oorxn/AITj/goX/wBGv/Bn/wAPxq3/AMy9H/Ccf8FC/wDo1/4M/wDh%2BNW/%2BZegD2aivGf%2BE4/4KF/9Gv8AwZ/8Pxq3/wAy9H/Ccf8ABQv/AKNf%2BDP/AIfjVv8A5l6APZqK%2Bcfgj%2B0d%2B3b8ePgx4Q%2BOPhX9lD4SWul%2BM/C%2Bn67pttqHx11RZ4YLu2juI0kCeGGUOFkAYKzDIOCRzXUf8Jx/wUL/AOjX/gz/AOH41b/5l6APZqK8Z/4Tj/goX/0a/wDBn/w/Grf/ADL0f8Jx/wAFC/8Ao1/4M/8Ah%2BNW/wDmXoA9jngguomt7mFJI2GGR1BBHuDXI%2BI/2d/2f/GO4%2BLvgZ4O1Xd97%2B0vDNpPn674zXkXxd/aO/bt%2BDXhS08X%2BI/2UPhJc2954o0TQo47L466ozifVNVtdMgc7vDCjYs13GznOQisQGOFPUf8Jx/wUL/6Nf8Agz/4fjVv/mXqJ06dRWnFP1Sf5pnThsbjcFPmw9WVN94ylF/fGUX%2BJD4h/wCCbf7AXijcdU/Y5%2BHSFvvNY%2BFba1J/GFENcPrn/BFn/gmXrsv2iX9mC0tJQcpLpniLU7UofUCK5UfpXff8Jx/wUL/6Nf8Agz/4fjVv/mXo/wCE4/4KF/8ARr/wZ/8AD8at/wDMvXFUyjKqvx4eD/7cj/8AIo%2BnwniHx/gP92zfFQ9MRW/WrI8x/wCHMv7KGmf8iL44%2BKvhfH3P7A%2BJd9Hs%2BnmM9U/gp%2ByXafstf8FC/BkWn/tCfFHxxBrfwZ8ZeXb/ABI8XHVV0zydW8K/8euY0MQk835%2Bu7yo%2Bm3n1r/hOP8AgoX/ANGv/Bn/AMPxq3/zL1xXhzXv2jNZ/wCCiPw9X47/AAr8E%2BG44/gt44/sx/CPj%2B81tp2Or%2BEt4lFxpVj5IACYKmTduOQu0bihlOW4aqqlGkotdrr8Oa34BmniBxpnmBng8xx061OdrqfJJuzTXvOlzrVJ6VFfrdXT%2Bm6KKK9A%2BPCiiigAooooAK8D/wCCc3grQvCHwZ8Z3mjW%2ByXXPj58StS1KQ9ZZ28Y6vFu/COKNR7IK98r5K/ZK8Wftnaf8PfFFn8MfgH8MNX0JPjT8Rf7P1HXvi7qOm3cy/8ACZ6yWMltFoFykRDbgAJnyADkE7QnGLabWxpGrVhTlCLaUrXXezur%2Bj1XmfWtFeM/8Jx/wUL/AOjX/gz/AOH41b/5l6P%2BE4/4KF/9Gv8AwZ/8Pxq3/wAy9MzPZqK8Z/4Tj/goX/0a/wDBn/w/Grf/ADL1y/xu/aO/bt%2BA/wAGPF/xx8VfsofCS60vwZ4X1DXdSttP%2BOuqNPNBaW0lxIkYfwwqlysZChmUZIyQOaAPo6ivGf8AhOP%2BChf/AEa/8Gf/AA/Grf8AzL0f8Jx/wUL/AOjX/gz/AOH41b/5l6APZqK8Z/4Tj/goX/0a/wDBn/w/Grf/ADL0f8Jx/wAFC/8Ao1/4M/8Ah%2BNW/wDmXoA9mor5x8fftHft2/DvxX4I8Iax%2Byh8JJrjx54ol0LSpLb466oUgnj0rUNTLy7vDAITydOmUFQx3ugxgll6j/hOP%2BChf/Rr/wAGf/D8at/8y9AHs1FeM/8ACcf8FC/%2BjX/gz/4fjVv/AJl6P%2BE4/wCChf8A0a/8Gf8Aw/Grf/MvQB7NRXjP/Ccf8FC/%2BjX/AIM/%2BH41b/5l65fSf2jv27dY%2BM%2Bv/A63/ZQ%2BEi6p4d8L6Rrt5cv8ddU8iSDUbnUreFEI8Mbi6tpc5YFQAHjwWJYKAfR1FeM/8Jx/wUL/AOjX/gz/AOH41b/5l6P%2BE4/4KF/9Gv8AwZ/8Pxq3/wAy9AHs1FeM/wDCcf8ABQv/AKNf%2BDP/AIfjVv8A5l6P%2BE4/4KF/9Gv/AAZ/8Pxq3/zL0AezUV84/CL9o79u34y%2BFLvxf4c/ZQ%2BEltb2fijW9CkjvfjrqiuZ9L1W60ydxt8MMNjTWkjIc5KMpIU5UdR/wnH/AAUL/wCjX/gz/wCH41b/AOZegD2aivGf%2BE4/4KF/9Gv/AAZ/8Pxq3/zL0f8ACcf8FC/%2BjX/gz/4fjVv/AJl6APZqK%2Bcfjd%2B0d%2B3b8B/gx4v%2BOPir9lD4SXWl%2BDPC%2Boa7qVtp/wAddUaeaC0tpLiRIw/hhVLlYyFDMoyRkgc11H/Ccf8ABQv/AKNf%2BDP/AIfjVv8A5l6APZqK8Z/4Tj/goX/0a/8ABn/w/Grf/MvR/wAJx/wUL/6Nf%2BDP/h%2BNW/8AmXoA9morxn/hOP8AgoX/ANGv/Bn/AMPxq3/zL1y/xd/aO/bt%2BDXhS08X%2BI/2UPhJc2954o0TQo47L466ozifVNVtdMgc7vDCjYs13GznOQisQGOFIB9HUV4z/wAJx/wUL/6Nf%2BDP/h%2BNW/8AmXo/4Tj/AIKF/wDRr/wZ/wDD8at/8y9AHs1FeM/8Jx/wUL/6Nf8Agz/4fjVv/mXo/wCE4/4KF/8ARr/wZ/8AD8at/wDMvQB7NRXzjq37R37duj/GfQPgdcfsofCRtU8ReF9X12zuU%2BOuqeRHBp1zptvMjk%2BGNwdm1SAqApBCSZKkKG6j/hOP%2BChf/Rr/AMGf/D8at/8AMvQB7NRXjP8AwnH/AAUL/wCjX/gz/wCH41b/AOZej/hOP%2BChf/Rr/wAGf/D8at/8y9AHs1eM/sv/APJb/wBo7/ss1j/6hXhej/hOP%2BChf/Rr/wAGf/D8at/8y9Yf7DOofEnU/iF%2B0NefFvwnoeia63xptPteneHPEM2qWkajwZ4YCFLma0tHcldpIMK7SSAWA3EA%2BgqKKKACiiigAooooAKKKKACiiigAooooAKKKKACiiigAooooAKKKKACiiigDzD9rb4yeMvgx8MLC%2B%2BGtnpkvibxL4w0Xw1oEmtwSS2Vrcahfw2xup44pI3ljhjeSbylkjMpiEYePfvXy24/a4%2BJOg/sz%2BMfiR4p8JeFtQ%2BJ/gj4hH4dW17Z2E1vpd1qN9q1jY2VyI3lkngtZPtunzzQCZ2UxugkfYsle3/Hj4JeGv2gfh1L8O/E2sanpe3UrHU9L1rRJo473S9QsrqK7tLuBpY5I98c8MbbZEeNwCjo6MynhbH9hf4fR/BbX/gdrnxJ8Yavp/ieafUNa1S%2BuLFL%2BfWpb4339tCaC1jEd2k4hMaoq28S20KpAqpggGn%2Byt8Xvib8Qbr4h/DX4zyaFdeKPhp45Xw/qWseGdMmsbHVUm0nTtVguYrae4uJLc%2BTqUcTxtNJ%2B8gdg21lA9Zrg/gF8AtF%2BAei63bW3jXXvE%2Bs%2BKPEEmt%2BKfFPid7U32rXzW8FqssotIILdAlta2sCJFDGqx26DGck95QAV4f%2B3d8XPjx%2Bz98GtX%2BOvwo8Y%2BBbHT/C2i3N5e6L4s8M3t/c%2BIb3KLZ6ZZyW17B9mmuJSLdG8q6ZpZ4gsLH5W9wrx79pX9kGD9pLx54I%2BIE37QPjvwhc%2BAbu5vdFsfDEWjT2cl7KgjW8mg1PTrxHnhj8xYZAFMYnlI%2BZsgA5X9sv47/Gn4Eaf4D1r4S%2BG7PQofF3iCc/ELXbj4T6x4w/sWCPSZpUmmtdFnglz5tvbW5uHcxouM8Bce5/DzxRpvjfwBoXjTRvFema9Z6xo9re2muaKu2z1GKWJZFuYB5kmIpAwdBvf5WHzN1PJ%2BPvgh4/8a%2BH4tE0n9rL4ieGpku5pJdT0C00H7RNDIir9nb7Tpc0aopUsroiygscyEYA6P4SfC7wZ8D/AIV%2BGvgv8OdNez8P%2BEtBs9G0O0knaVobS2hSGFWdyWchEUFmJJOSSSaAOhooooA%2BavD/AO1P8XR%2B3f4j%2BBHxL8TaJ4V8IW3iaDSvAthqfwn1tZvFqv4etb92tvELXa6b563Ut4v2VYHlMdhIMZzIuZ8Vv2tPi58L/ivr%2Bm/Dnw74Ptvhr8L/ABb4N8JeJdHuNInOpXsutT2cJlsporhILSGzh1GykETQTGfZMgaHCsfTvH37KH/CzfinYfEbxn%2B0D48utP0TVxq/hzwYBpKaXpWoravbxXcZXTxdTNH5skqx3FxNCJWDGMhEVczxp%2Bwv8P8Ax78VoPijrvxL8YCOa80K/wDFPhm3uLFNN8T6jo0wn06%2BvU%2Byeas0UqQuRbSwRyfZ4VkR0QLQB7bRRRQA2cTNC620ipIVPlu6FlVscEgEZHtkfUV89/s4/EX9o/4g/tI/E74L/HHxN8PPFnhn4eWugxrq3hnwBeaRIviG4V7%2BS1dbnVL5W%2Bz2p0u4DDY269UjGwE/Q1cD8Mv2fNC%2BEdjq9t4M8aa7HceIfHt/4r8QajcNayz6jcXUxdrWQtBgW8cQhtowgWVYbWFfMLBnYA8o/Yo/an%2BLvxn%2BIXiPwR8e/E2iaPrtrc6xLpPw/Pwn1vw/qCaba6tJaQ38d9qN3JDq8DQ/ZWeW0hWNXuo8su9VP0rXlfw//Zag8J/Ghfjz42%2BN/jXx1r1lod9o3h3/AISo6ZHBoljeXFtcXUNvHp9la7zI9lZgyXBmkC26gONz7/VKACvmL9pb9sP4wfssfG/xhdeM7Xwxq/w60X9n3xZ8Q9M0zTtJuYNZSbQTpfmwzXb3LwyJN9um2qtuhTy0Jd8kV9O14Z8Y/wBhXw78dPjq3xl8efHbxzLps3grU/CN98PYYNF/sS70bUltvt9pIX01r0idrSB2cXQdShCMiMyEAP2a/ib8a9Z%2BNvi34G/tN2fgy%2B8ZeEfCOha/aa/4L0S4srb%2BztZlv4TZ7Lm5uZN8dzolxukEgWZBA3lxkFRyH7Ov7Y3xs%2BJXxb8JP480zwsvgj4pf8JT/wAINa6TptzFqek/2RerFD9tnkuZIrv7VbCWc%2BXDB9ndFi/fhvNHo3wT/ZIsfgnPqevW3x18deJPEesvpMOp%2BLPFEumzX8%2Bm6dv%2By6WfKsooRbATXOWEYnZrqZzN5jBxV%2BEX7EPw4%2BDnxa/4Wno3jnxVqUNh/bP/AAifhbV7q1bTPDP9rXiXuofYlit0mPmzIuPtEs3koWih8qNmQgHs1FFFAHzR8J/jD%2B2J8QPCXxV8PeJfif8ACXQPEfw0%2BKTaNeeK5/A%2BoPpC6ONC03VGd7R9XSTzla/8tpjdRx7Ii/lg/LV/wv8AtF/GLxB/wTa139rzwX8I9Pl%2BIl18N9V8R6PoNho9zJBr%2BpW9nL9glS3UrcyRXa29q0cRbzvKljj37lBrnfE//BLCw8Z%2BHPG/hPxR%2B2/8Z7zT/iF43s/FHim0kg8KCK8u7e3t7YQPGuhBJbSSKzs0lt5A8cgtlDAiSYSe62vwq8aQeDIfCs37RnjSe7i0O6sG8QPZ6Kl5JPK6NHflY9OWAXEAUpGqxCArI3mwyttZQDmP2O/jXrHxp8CatdeLfijo3iPXtH1s2erW2mfDXVfCM%2BkMbeGVLa603Vrq4uo5SsnmiRiiyRyxlUwN7%2BuV558B/wBnbSfgdeeJfEdz8RPEnjHxJ4v1GG88ReKfFb2Yu7ow26W8EQjsba2tooo40AVY4UyWdmLMzMfQ6AOa%2BMUnxNh%2BGWsT/BzWtB07xLFa79MvfE2lTX1jEVYFzLBBPbySjyw%2BFWWP5iuWxmvkzSv%2BCgHx/wBT0z4H%2BPPGOteF/A/g7x58GvD/AIr8X%2BK734Ra7rOmQ6rfmDzLEX9rfRW2jxbZTslvWkA3Lktgg/XfxM8Hap8QfAep%2BC9G%2BIOs%2BFbjUbfyU8QeH4bOS8swSCzRLe29xbkkAqfMhcYY4AOCPCtK/wCCb2nWn7P/AIf/AGVtd/a8%2BLOs/DzRPDFt4cvPC9%2BPDscetaTABGlndTW2jxThDAqwM0EkLvGPmZmLMQDrv2kPiX8Rvhrqnw0%2BBH7OsPhfR9c8c69PpdhqPiLQ5rzTdFsLLTLm8kcWdtcWrTMfs8UCRrNEF84uSRH5b9B%2Byb8adW/aF/Z48MfFvxFodvpuq6laSRa1YWcrPBBf280ltdLCzfM0XnwybC3JTaTzmq3xo/ZntvjSNP1G7%2BMfi/QNb8P%2BKTrvhDxJ4fGmrd%2BH5WsHsZbeBbiymhmgkhmudyXUU53XDMGXy4fK6b4MfCTwf8BvhVoHwd8Aw3C6R4d02Ozs3vbgzTzBR80s0h5kldizu55Z3Zj1oA6evF/2yfi78cPgla%2BAfGPwsvfCn9jah8TPDnh7xfY%2BINFubm6ubXVdZsdNBs5YbqFLaSNbmWTfIk6koi7OSa9oryr9q79lt/2qvDeheF5/j7438DW%2BheJLDXUbwXDo7Pd3tjeQXlm0p1LT7wbYri3jcLGEDcrJvU7QAcZq/wARP2lo/wBu/wANfs7ax4r%2BHPiPwVqmg6t4r1nTYvh7eW%2BpaHY2lxbRaYGvX1WaGW4ku5lZX%2ByoGFhcMojZVxS%2BOP7U/wAXfhh%2B2lpnwn1bxNong/4aS6B4duB4l134T63qsOranfapqFrPpo1m2u4bDSZBHb2KxG6Vy0l8mFf5UPrngr4CeHPBfxX8UfGz/hJtY1TxJ4s0PSdIv7/U3tz5Fppy3BgjhWKFFQGW8up3BBBkuHwFUKi8z8VP2SZfjUuk6J8R/wBo/wCIF94asotN/trwii6NDZeIZ7KdJ1nvJItOW5VpZY42ljtpoIWCbRGqM6sAev0UUUAeD/ta/Gb9oL4DeJPC/i7wZ4g8D3vh7WvF2heHbbwLfeHLyTXNcub2%2BWG5a0vY71YoTBatJdbGtJh5dpMzvGgLx8f%2Bx1%2B1n8XPjj4/%2BHeufFvw74P/ALM%2BMXwcvviD8NX0HSJ4L/QtKS60jzNPvZpriUXUkkOr6XIZYkt08yGVTEQqNXoXxJ/Y5X4iftO6J%2B1Nb/tHfEDQtV8P6GNK0zQNMh0S40uCB5vNuWjS%2B0y4mhluQI45pYpUdo4Y0VkA5pfBv9gzwN8DNSm1TwR8XfG7SWPhebw34ES/n06ZPBGjy3CXD2OmKbIAx74bYZu/tL7LSBN21AKAOQ/4bG%2BNn/DQPmf2Z4W/4Vj/AMLn/wCFafYP7Nuf7b%2B2f2b5/wDan2r7T5Hlfbf9F%2By/Z93l/v8Az8/ua%2Boq8Z/4Yh%2BHH/C//wDhe3/Cc%2BKvs/8Awlf/AAlX/CCfarX%2BxP7f/s3%2Bzf7U2fZ/tPm/Zv8All9o%2Bz%2Bb%2B/8AJ8795Xs1ABRRRQAUUUUAfLv7TX7Y3xt%2BFnxT8Yt8PNM8LN4N%2BE2i%2BG9T8d22s6bczajrEeqX1xFNHYzR3Mcdo1taweeGkiuBPJKIsQhTIY/2wP2rvjB8APEXjix%2BBHhzwfFo/wAJPhNL8TfH1prekzyz63bTXOoP9hsXguIUtLiRdM1GRrmVZ18x4cxHc7D0D4z/ALEPw4%2BN3xSPxM1zxz4q0uLUbXSLXxf4a0a6tU07xTBpd7Je2MV8stvJMFjmmlz9nlgMschimMsYVBS%2BN37Bvgb4/XEd145%2BLvjeN7/ws/hjxv8A2bPp0K%2BMtDeYzHTtRX7EVEWXnXdai2lCXM6iTEjUAe4wTR3MCXELZSRAyHGMgjIp1FFABXgGjfFT45J%2B1%2BP2Xfi1qPgHxdoHiTwVrGuXFh4e8L3Vrc%2BG7KO8t7azi1F5725ivFvEnuUUiK23PZT7I5EWTyvf68M%2BE37Et58HPiF43%2BI3hz9rL4m3d14%2B1yfVdbg1a28OzhZ3ZBEsc39kC48q3hRbeGJ5XSOLgKW%2BegDnfhZ%2B1P8AF3Xf20vFXwN%2BLHibRPDOi2/ie503wBoF/wDCfW7S58T20Wl292bi116e7Gn3ciu12Wt4IGkEdq5IARnH0rXld9%2By1B4i%2BOWi/Gvx78b/ABr4ih8La1c6v4R8HakdMj0nRb6azuLJp4vs1lFdTFba7uo0FzcTKonYgblRl9UoAK4X9qDx38Rfhb%2BzT8RPid8H/Ci694t8OeBdX1TwtobWM10NR1G3s5Zba2MMDLLN5kqInlxsHbdhSCQa7qs7xbol/wCJfDGoeH9L8V6joVze2kkNvrWkLA11YuykCaIXEUsRdTyBJG6ZHzKwyCAeE/Cv9qWzvv2a/HHx2%2BKvjXRPGWrfC%2BPUNU1ax0v4Y6n4SvNHNvpn2j7NLp2r3NxdQXDQySMszGNZIrlNqbcs9r9k749fH/xd8StX%2BDP7SUPhGbW4vh/4f8Y6de%2BDNMubS2it9Tkv4ZNPkS4ubhpZLeWxP%2Bkho1mWdSIYijA7/wAPf2PPDPg1fE8viv4q%2BLfGtz46eQeO7vxWumltfgNktlFbTJaWUEcMMUKkIlskOWkdpDIWJqb9mz9kbwt%2Bzbf6lr1t8TPF/jHV9Q0TTNDTWfGl3aS3NppGnfaPsVhGbW2gUxxNdXL%2BZIrzyNMzSyyELgA9YooooA84/aq8Y%2BP/AIZ/BfWvit4K%2BKfhTwhaeE9Nu9Z8S6t4u8HXOtQLpttbyTTbIbfUbFkcBN28yMMKRtyQy%2BS%2BPPjj%2B154A/YY8CfHrUfhzoUHxe8SR%2BFbfx5Bonw01bXYdIhurmP7bs0yxuft1ytnHcXDBFnOGV26MRXuHx8%2BCHhP9oz4XXvwf8d6hqEGi6neWMuqRabKiNeQW93DcvZyF0cGCcQ%2BRMoAZoZZFVkYh1X4h/DPxh420%2B%2Bs/Dv7QPjDwlLdXNvLa3nh600iSSwEalXjiF7YXCMsucv5qyEEDyzH0oAi/Z1%2BJNt8XPgzofxAt/iJo3is30Uq3GuaBoNxpdtNPFNJDLGLO5nmmtJI5I3ikhlkaSOSJ1bawKjta474DfBLwt%2Bz18Nbf4Z%2BEtT1K/hTUdQ1K/1XWrhJbzUb%2B%2BvJr68u5mRETzJbm4mkIREjXftREQKo7GgCj4mTxJL4b1CPwbc2MGsNYyjSptTgeW2judh8ppURkZ4w%2B0sqspIyAwPNfI/w5/a//bI%2BL/hbwH8L/BU/w1t/iZr7/EW51jXNQ8L6g2iSWnhbxCmihIbJdRE8MlzLd2LbmuZREvnttk%2BVa%2BvNd0%2B71fRLzStP1260ue6tZIoNTsEiae0dlIE0YmjkjLoSGAkR0yBuVhkH5p8L/wDBL/QvCXg%2Bz8PaZ%2B2D8YP7V03VvEF3pni5ZPD0Op2kGuXLXerWSmHR0hNvc3TLcHdE0sUkMRhkiEagAGpqX7W%2Brax%2Bxb8Kvjz8B/CGkaTrPxrl8MN4as9btXmstMm14xXUtxcxwPC9x5UU1xMUV4zNIoUyR%2BYXXu/2S/jH42%2BMPw%2B1hfifbaWnifwn4z1fwzr0%2BhW0kFjeTWVy0aXUEUskrwpLAYZTE0khjZ2j8yTZvaHxd%2ByB8PvE3wfsPgbpPinXvD3h/wAPW%2BhL4Hg0JrRJPC0%2BkSJJZ3Nm8tvIWcGKFWS48%2BJ0i2GPa8qydJ8Bvgh4b/Z%2B%2BH//AAgnh7XNV1eS41W%2B1XWNd12WJ77VdQvLmS5ubqcwxxRB3kkbCxxpGihURERFUAHZ14v/AMFBfi78cP2fv2R/Gnx6%2BAV74Uj1jwToV3rl1B4w0W5vra7tLW2lme3RLa6tmSV2RFEhcqgLEo/Ar2ivOP2sf2cbL9rT4Ea9%2Bz7rXxV8U%2BEdJ8T2Utjrl/4QXTvtdzZSxPFNbbr%2B0uo0R1flkRZAVG115yAcR%2B0P8VPjj8Nvjf4L8IXOo%2BAfEPg74i%2BLYPDkHw%2Bk8L3Ta5cWb2ckl9fG8N40DQ24R5ZIms9phG0zB5EBzP25v2nPjP8As/fETwRpng/XdI8L%2BC9T8O%2BINR8Z%2BPde%2BEmt%2BK7PR5bOXS1tY5/7Lu7ZdPhkjur6V7m5fylW0PKgMa1/Cn7DOqeG/wBoqH9prUf2x/iprmvrollo9zba1aeGXtZ7CBg8luqx6MklqtxKBLP9leEyuqcgRRLH0vxq/Zl1/wCN/hCTwFq/7UXxF0bSb631G01%2B10BNEiOr2d3IxNrLJLpskkKxRMYI5LZoZvL%2BZ5Hl/e0Aeo2l3a39rFfWNzHNBNGskM0ThkkQjIZSOCCDkEVJVPw9oGj%2BFNAsfC/h6wS10/TbOK1sbWMnbDDGgREGecBQBz6VcoA8X/bJ%2BLvxw%2BCVr4B8Y/Cy98Kf2NqHxM8OeHvF9j4g0W5ubq5tdV1mx00GzlhuoUtpI1uZZN8iTqSiLs5Jri/gv%2B0r8TPiL%2B1V4q%2BCPx31fw9ounWninUrfwJ4S1P4RazY3OuW1g8MsN/ba1d3ZsL90IMrRW0BdNgfKbCa9H/au/Zbf9qrw3oXhef4%2B%2BN/A1voXiSw11G8Fw6Oz3d7Y3kF5ZtKdS0%2B8G2K4t43CxhA3Kyb1O0Q6d%2BycZvjBo3xi%2BIn7Qvj3xjP4Yuby78JaLr40iKx0W7ubeS1kuYlsdPt5ZZBbzTxL9okmVVnfCgkEAHnH7TX7Y3xt%2BFnxT8Yt8PNM8LN4N%2BE2i%2BG9T8d22s6bczajrEeqX1xFNHYzR3Mcdo1taweeGkiuBPJKIsQhTIfqKvDfiR%2Bwf4E%2BKvjSz8a%2BLfiz41Z5tK0TT/G%2Bn20%2BnxWvjWPSbt7uyOpItnlSs8szP8AYzarKsrRSBogsa%2B5UAFeAeEvih%2B1b4r/AGi/jL%2BzzL4y%2BHtjN4b0Dw5rngDWF8FX1wtpbaleavE0GoQ/2nGb2RY9MQiSF7VQ0x%2BVgo3e/wBeK6b%2Bxtf6Z8fPHf7QMP7VfxLN74%2B8NxaHe6KI9BSy022t2vGsjaNHpS3KSWzX900byTSFi483zQqgAEH7B/xR%2BLHx%2B%2BE158YfjVN4Q1K6Hi/XtL8Ha94V8Mz6ZHe6HbXv2RLnyri8u3QXMlm1wNs214mtztBGa5v/AIJxftT/ABd/aP8AAvm/tF%2BJtEsvHf8AwjOkarrPw8t/hPrfhS%2B8ONdRymRZF1e7mfUIDKjxR3UCRxFraXlycJ7F8Ovgl4e%2BEPww8F/Bz4Ya7qWi%2BHfA%2Bj2%2BladYWot3%2B1WcFmbWGKZpIWb5f3cu6IxsZIlySheN8H4N/sv23wt%2BIuqfF/xb8afGXxB8U6lolvoya34yOmxvZ6fDLJMLeGLTbK0gUNLKzu7RtIxCAvtRVAB6jTLn7T9mk%2Bx7PO2HyvNzt3Y4zjnGafUd3DJcWstvDdSQPJGyrPEFLxkjAZdwK5HUZBHqDQB8ba1%2B2L%2B2F4W/aCT9jx/EPwv8QeLdb17RNK07x1pXgvUbfSPD97dabrmrXdje2LapJJdXEen6L5yCO7gJGoW5kSJWRpe7039r7xHoH7BXi79qi/8Ah/oreM9Bv9f0fVtN0/fBY6n4i0rVbjQDJvO6RLaW6skwWLyRwFRlygzV%2BH3/AATF8O/Dz4cW3w%2BtP2s/ixqM%2BleKB4n8P%2BJ9SXw6dV0vXGM4uNTE8ejoLu4uI7q5hmN4twrxzMoVeMd/afsX/DGD9ny6/ZhvfEfiG88Ial4d1PTtbtbm7g%2B0aldX9w1zdatJcJCsq3zTyTzCSJo4xJO7CPIjKADP2Yfi58XfFXjH4hfBX48Xfhy/8TeANYsYzrnhLR7jT7HU7K9sYrqGQWtxc3LwSI7TwspnkDCFJAV8zy09grz34A/s8aT8BovEOoS/EPxJ4x8QeLNXj1HxJ4r8WvZm%2BvpI7aG1hQrZW1tbxRxwQRoqRQoM73bc8ju3oVABRRRQAUUUUAFFFFABRRRQAUUUUAFFFFABRRRQAUUUUAFFFFABRRRQAUUUUAFFFFABRRRQAUUUUAFFFFABRRRQAUUUUAFFFFABRRRQAUUUUAFFFFABRRRQAUUUUAFFFFABRRRQAUUUUAFFFFABRRRQAUUUUAFFFFABRRRQAUUUUAFFFFABRRRQAUUUUAFFFFABRRRQAUUUUAFFFFABRRRQAUUUUAFFFFABRRRQAUUUUAFFFFABRRRQAUUUUAFFFFABRRRQAUUUUAFFFFABRRRQAUUUUAFFFFABRRRQAUUUUAFFFFABRRRQB//Z\">"
      ]
     },
     "metadata": {},
     "output_type": "display_data"
    },
    {
     "ename": "KeyboardInterrupt",
     "evalue": "",
     "output_type": "error",
     "traceback": [
      "\u001b[0;31m---------------------------------------------------------------------------\u001b[0m",
      "\u001b[0;31mKeyboardInterrupt\u001b[0m                         Traceback (most recent call last)",
      "\u001b[0;32m<ipython-input-109-3a6091f42757>\u001b[0m in \u001b[0;36m<module>\u001b[0;34m\u001b[0m\n\u001b[1;32m     12\u001b[0m     \u001b[0;32mfor\u001b[0m \u001b[0mbatch_start\u001b[0m \u001b[0;32min\u001b[0m \u001b[0mrange\u001b[0m\u001b[0;34m(\u001b[0m\u001b[0;36m0\u001b[0m\u001b[0;34m,\u001b[0m \u001b[0mX_train_flat\u001b[0m\u001b[0;34m.\u001b[0m\u001b[0mshape\u001b[0m\u001b[0;34m[\u001b[0m\u001b[0;36m0\u001b[0m\u001b[0;34m]\u001b[0m\u001b[0;34m,\u001b[0m \u001b[0mBATCH_SIZE\u001b[0m\u001b[0;34m)\u001b[0m\u001b[0;34m:\u001b[0m  \u001b[0;31m# data is already shuffled\u001b[0m\u001b[0;34m\u001b[0m\u001b[0m\n\u001b[1;32m     13\u001b[0m         _, batch_loss = s.run([step, loss], {input_X: X_train_flat[batch_start:batch_start+BATCH_SIZE], \n\u001b[0;32m---> 14\u001b[0;31m                                              input_y: y_train_oh[batch_start:batch_start+BATCH_SIZE]})\n\u001b[0m\u001b[1;32m     15\u001b[0m         \u001b[0;31m# collect batch losses, this is almost free as we need a forward pass for backprop anyway\u001b[0m\u001b[0;34m\u001b[0m\u001b[0;34m\u001b[0m\u001b[0m\n\u001b[1;32m     16\u001b[0m         \u001b[0mbatch_losses\u001b[0m\u001b[0;34m.\u001b[0m\u001b[0mappend\u001b[0m\u001b[0;34m(\u001b[0m\u001b[0mbatch_loss\u001b[0m\u001b[0;34m)\u001b[0m\u001b[0;34m\u001b[0m\u001b[0m\n",
      "\u001b[0;32m~/anaconda3/envs/python3_rl/lib/python3.6/site-packages/tensorflow/python/client/session.py\u001b[0m in \u001b[0;36mrun\u001b[0;34m(self, fetches, feed_dict, options, run_metadata)\u001b[0m\n\u001b[1;32m    875\u001b[0m     \u001b[0;32mtry\u001b[0m\u001b[0;34m:\u001b[0m\u001b[0;34m\u001b[0m\u001b[0m\n\u001b[1;32m    876\u001b[0m       result = self._run(None, fetches, feed_dict, options_ptr,\n\u001b[0;32m--> 877\u001b[0;31m                          run_metadata_ptr)\n\u001b[0m\u001b[1;32m    878\u001b[0m       \u001b[0;32mif\u001b[0m \u001b[0mrun_metadata\u001b[0m\u001b[0;34m:\u001b[0m\u001b[0;34m\u001b[0m\u001b[0m\n\u001b[1;32m    879\u001b[0m         \u001b[0mproto_data\u001b[0m \u001b[0;34m=\u001b[0m \u001b[0mtf_session\u001b[0m\u001b[0;34m.\u001b[0m\u001b[0mTF_GetBuffer\u001b[0m\u001b[0;34m(\u001b[0m\u001b[0mrun_metadata_ptr\u001b[0m\u001b[0;34m)\u001b[0m\u001b[0;34m\u001b[0m\u001b[0m\n",
      "\u001b[0;32m~/anaconda3/envs/python3_rl/lib/python3.6/site-packages/tensorflow/python/client/session.py\u001b[0m in \u001b[0;36m_run\u001b[0;34m(self, handle, fetches, feed_dict, options, run_metadata)\u001b[0m\n\u001b[1;32m   1098\u001b[0m     \u001b[0;32mif\u001b[0m \u001b[0mfinal_fetches\u001b[0m \u001b[0;32mor\u001b[0m \u001b[0mfinal_targets\u001b[0m \u001b[0;32mor\u001b[0m \u001b[0;34m(\u001b[0m\u001b[0mhandle\u001b[0m \u001b[0;32mand\u001b[0m \u001b[0mfeed_dict_tensor\u001b[0m\u001b[0;34m)\u001b[0m\u001b[0;34m:\u001b[0m\u001b[0;34m\u001b[0m\u001b[0m\n\u001b[1;32m   1099\u001b[0m       results = self._do_run(handle, final_targets, final_fetches,\n\u001b[0;32m-> 1100\u001b[0;31m                              feed_dict_tensor, options, run_metadata)\n\u001b[0m\u001b[1;32m   1101\u001b[0m     \u001b[0;32melse\u001b[0m\u001b[0;34m:\u001b[0m\u001b[0;34m\u001b[0m\u001b[0m\n\u001b[1;32m   1102\u001b[0m       \u001b[0mresults\u001b[0m \u001b[0;34m=\u001b[0m \u001b[0;34m[\u001b[0m\u001b[0;34m]\u001b[0m\u001b[0;34m\u001b[0m\u001b[0m\n",
      "\u001b[0;32m~/anaconda3/envs/python3_rl/lib/python3.6/site-packages/tensorflow/python/client/session.py\u001b[0m in \u001b[0;36m_do_run\u001b[0;34m(self, handle, target_list, fetch_list, feed_dict, options, run_metadata)\u001b[0m\n\u001b[1;32m   1270\u001b[0m     \u001b[0;32mif\u001b[0m \u001b[0mhandle\u001b[0m \u001b[0;32mis\u001b[0m \u001b[0;32mNone\u001b[0m\u001b[0;34m:\u001b[0m\u001b[0;34m\u001b[0m\u001b[0m\n\u001b[1;32m   1271\u001b[0m       return self._do_call(_run_fn, feeds, fetches, targets, options,\n\u001b[0;32m-> 1272\u001b[0;31m                            run_metadata)\n\u001b[0m\u001b[1;32m   1273\u001b[0m     \u001b[0;32melse\u001b[0m\u001b[0;34m:\u001b[0m\u001b[0;34m\u001b[0m\u001b[0m\n\u001b[1;32m   1274\u001b[0m       \u001b[0;32mreturn\u001b[0m \u001b[0mself\u001b[0m\u001b[0;34m.\u001b[0m\u001b[0m_do_call\u001b[0m\u001b[0;34m(\u001b[0m\u001b[0m_prun_fn\u001b[0m\u001b[0;34m,\u001b[0m \u001b[0mhandle\u001b[0m\u001b[0;34m,\u001b[0m \u001b[0mfeeds\u001b[0m\u001b[0;34m,\u001b[0m \u001b[0mfetches\u001b[0m\u001b[0;34m)\u001b[0m\u001b[0;34m\u001b[0m\u001b[0m\n",
      "\u001b[0;32m~/anaconda3/envs/python3_rl/lib/python3.6/site-packages/tensorflow/python/client/session.py\u001b[0m in \u001b[0;36m_do_call\u001b[0;34m(self, fn, *args)\u001b[0m\n\u001b[1;32m   1276\u001b[0m   \u001b[0;32mdef\u001b[0m \u001b[0m_do_call\u001b[0m\u001b[0;34m(\u001b[0m\u001b[0mself\u001b[0m\u001b[0;34m,\u001b[0m \u001b[0mfn\u001b[0m\u001b[0;34m,\u001b[0m \u001b[0;34m*\u001b[0m\u001b[0margs\u001b[0m\u001b[0;34m)\u001b[0m\u001b[0;34m:\u001b[0m\u001b[0;34m\u001b[0m\u001b[0m\n\u001b[1;32m   1277\u001b[0m     \u001b[0;32mtry\u001b[0m\u001b[0;34m:\u001b[0m\u001b[0;34m\u001b[0m\u001b[0m\n\u001b[0;32m-> 1278\u001b[0;31m       \u001b[0;32mreturn\u001b[0m \u001b[0mfn\u001b[0m\u001b[0;34m(\u001b[0m\u001b[0;34m*\u001b[0m\u001b[0margs\u001b[0m\u001b[0;34m)\u001b[0m\u001b[0;34m\u001b[0m\u001b[0m\n\u001b[0m\u001b[1;32m   1279\u001b[0m     \u001b[0;32mexcept\u001b[0m \u001b[0merrors\u001b[0m\u001b[0;34m.\u001b[0m\u001b[0mOpError\u001b[0m \u001b[0;32mas\u001b[0m \u001b[0me\u001b[0m\u001b[0;34m:\u001b[0m\u001b[0;34m\u001b[0m\u001b[0m\n\u001b[1;32m   1280\u001b[0m       \u001b[0mmessage\u001b[0m \u001b[0;34m=\u001b[0m \u001b[0mcompat\u001b[0m\u001b[0;34m.\u001b[0m\u001b[0mas_text\u001b[0m\u001b[0;34m(\u001b[0m\u001b[0me\u001b[0m\u001b[0;34m.\u001b[0m\u001b[0mmessage\u001b[0m\u001b[0;34m)\u001b[0m\u001b[0;34m\u001b[0m\u001b[0m\n",
      "\u001b[0;32m~/anaconda3/envs/python3_rl/lib/python3.6/site-packages/tensorflow/python/client/session.py\u001b[0m in \u001b[0;36m_run_fn\u001b[0;34m(feed_dict, fetch_list, target_list, options, run_metadata)\u001b[0m\n\u001b[1;32m   1261\u001b[0m       \u001b[0mself\u001b[0m\u001b[0;34m.\u001b[0m\u001b[0m_extend_graph\u001b[0m\u001b[0;34m(\u001b[0m\u001b[0;34m)\u001b[0m\u001b[0;34m\u001b[0m\u001b[0m\n\u001b[1;32m   1262\u001b[0m       return self._call_tf_sessionrun(\n\u001b[0;32m-> 1263\u001b[0;31m           options, feed_dict, fetch_list, target_list, run_metadata)\n\u001b[0m\u001b[1;32m   1264\u001b[0m \u001b[0;34m\u001b[0m\u001b[0m\n\u001b[1;32m   1265\u001b[0m     \u001b[0;32mdef\u001b[0m \u001b[0m_prun_fn\u001b[0m\u001b[0;34m(\u001b[0m\u001b[0mhandle\u001b[0m\u001b[0;34m,\u001b[0m \u001b[0mfeed_dict\u001b[0m\u001b[0;34m,\u001b[0m \u001b[0mfetch_list\u001b[0m\u001b[0;34m)\u001b[0m\u001b[0;34m:\u001b[0m\u001b[0;34m\u001b[0m\u001b[0m\n",
      "\u001b[0;32m~/anaconda3/envs/python3_rl/lib/python3.6/site-packages/tensorflow/python/client/session.py\u001b[0m in \u001b[0;36m_call_tf_sessionrun\u001b[0;34m(self, options, feed_dict, fetch_list, target_list, run_metadata)\u001b[0m\n\u001b[1;32m   1348\u001b[0m     return tf_session.TF_SessionRun_wrapper(\n\u001b[1;32m   1349\u001b[0m         \u001b[0mself\u001b[0m\u001b[0;34m.\u001b[0m\u001b[0m_session\u001b[0m\u001b[0;34m,\u001b[0m \u001b[0moptions\u001b[0m\u001b[0;34m,\u001b[0m \u001b[0mfeed_dict\u001b[0m\u001b[0;34m,\u001b[0m \u001b[0mfetch_list\u001b[0m\u001b[0;34m,\u001b[0m \u001b[0mtarget_list\u001b[0m\u001b[0;34m,\u001b[0m\u001b[0;34m\u001b[0m\u001b[0m\n\u001b[0;32m-> 1350\u001b[0;31m         run_metadata)\n\u001b[0m\u001b[1;32m   1351\u001b[0m \u001b[0;34m\u001b[0m\u001b[0m\n\u001b[1;32m   1352\u001b[0m   \u001b[0;32mdef\u001b[0m \u001b[0m_call_tf_sessionprun\u001b[0m\u001b[0;34m(\u001b[0m\u001b[0mself\u001b[0m\u001b[0;34m,\u001b[0m \u001b[0mhandle\u001b[0m\u001b[0;34m,\u001b[0m \u001b[0mfeed_dict\u001b[0m\u001b[0;34m,\u001b[0m \u001b[0mfetch_list\u001b[0m\u001b[0;34m)\u001b[0m\u001b[0;34m:\u001b[0m\u001b[0;34m\u001b[0m\u001b[0m\n",
      "\u001b[0;31mKeyboardInterrupt\u001b[0m: "
     ]
    }
   ],
   "source": [
    "s.run(tf.global_variables_initializer())\n",
    "\n",
    "BATCH_SIZE = 512\n",
    "EPOCHS = 400\n",
    "\n",
    "# for logging the progress right here in Jupyter (for those who don't have TensorBoard)\n",
    "simpleTrainingCurves = matplotlib_utils.SimpleTrainingCurves(\"cross-entropy\", \"accuracy\")\n",
    "\n",
    "for epoch in range(EPOCHS):  # we finish an epoch when we've looked at all training samples\n",
    "    \n",
    "    batch_losses = []\n",
    "    for batch_start in range(0, X_train_flat.shape[0], BATCH_SIZE):  # data is already shuffled\n",
    "        _, batch_loss = s.run([step, loss], {input_X: X_train_flat[batch_start:batch_start+BATCH_SIZE], \n",
    "                                             input_y: y_train_oh[batch_start:batch_start+BATCH_SIZE]})\n",
    "        # collect batch losses, this is almost free as we need a forward pass for backprop anyway\n",
    "        batch_losses.append(batch_loss)\n",
    "\n",
    "    train_loss = np.mean(batch_losses)\n",
    "    val_loss = s.run(loss, {input_X: X_val_flat, input_y: y_val_oh})  # this part is usually small\n",
    "    train_accuracy = accuracy_score(y_train, s.run(classes, {input_X: X_train_flat}))  # this is slow and usually skipped\n",
    "    valid_accuracy = accuracy_score(y_val, s.run(classes, {input_X: X_val_flat}))  \n",
    "    simpleTrainingCurves.add(train_loss, val_loss, train_accuracy, valid_accuracy)"
   ]
  },
  {
   "cell_type": "code",
   "execution_count": null,
   "metadata": {},
   "outputs": [],
   "source": []
  },
  {
   "cell_type": "markdown",
   "metadata": {},
   "source": [
    "# MLP with hidden layers"
   ]
  },
  {
   "cell_type": "markdown",
   "metadata": {},
   "source": [
    "Previously we've coded a dense layer with matrix multiplication by hand. \n",
    "But this is not convenient, you have to create a lot of variables and your code becomes a mess. \n",
    "In TensorFlow there's an easier way to make a dense layer:\n",
    "```python\n",
    "hidden1 = tf.layers.dense(inputs, 256, activation=tf.nn.sigmoid)\n",
    "```\n",
    "\n",
    "That will create all the necessary variables automatically.\n",
    "Here you can also choose an activation function (remember that we need it for a hidden layer!).\n",
    "\n",
    "Now define the MLP with 2 hidden layers and restart training with the cell above.\n",
    "\n",
    "You're aiming for ~0.97 validation accuracy here."
   ]
  },
  {
   "cell_type": "code",
   "execution_count": 108,
   "metadata": {},
   "outputs": [],
   "source": [
    "# write the code here to get a new `step` operation and then run the cell with training loop above.\n",
    "# name your variables in the same way (e.g. logits, probas, classes, etc) for safety.\n",
    "### YOUR CODE HERE ###\n",
    "\n",
    "# run this again if you remake your graph\n",
    "s = reset_tf_session()\n",
    "\n",
    "# Model parameters: W and b\n",
    "W = tf.get_variable(name='w', shape=(256,10))### YOUR CODE HERE ### tf.get_variable(...) with shape[0] = 784\n",
    "b = tf.get_variable(name='b', shape=(10))### YOUR CODE HERE ### tf.get_variable(...)\n",
    "\n",
    "# Placeholders for the input data\n",
    "input_X = tf.placeholder(name='x', shape=(None, 784), dtype = tf.float32)### YOUR CODE HERE ### tf.placeholder(...) for flat X with shape[0] = None for any batch size\n",
    "input_y = tf.placeholder(name='y', shape=(None, 10),  dtype = tf.float32)### YOUR CODE HERE ### tf.placeholder(...) for one-hot encoded true labels\n",
    "\n",
    "# Compute predictions\n",
    "hidden1 = tf.layers.dense(input_X, 256, activation = tf.nn.sigmoid)\n",
    "logits = tf.matmul(hidden1, W) + b ### YOUR CODE HERE ### logits for input_X, resulting shape should be [input_X.shape[0], 10]\n",
    "probas = tf.nn.softmax(logits)### YOUR CODE HERE ### apply tf.nn.softmax to logits\n",
    "classes = tf.argmax(probas, axis = 1) ### YOUR CODE HERE ### apply tf.argmax to find a class index with highest probability\n",
    "\n",
    "# # Loss should be a scalar number: average loss over all the objects with tf.reduce_mean().\n",
    "# # Use tf.nn.softmax_cross_entropy_with_logits on top of one-hot encoded input_y and logits.\n",
    "# # It is identical to calculating cross-entropy on top of probas, but is more numerically friendly (read the docs).\n",
    "loss = tf.reduce_mean(tf.nn.softmax_cross_entropy_with_logits_v2(logits = logits, labels = input_y)) ### YOUR CODE HERE ### cross-entropy loss\n",
    "\n",
    "# # Use a default tf.train.AdamOptimizer to get an SGD step\n",
    "step = tf.train.AdamOptimizer(learning_rate= 0.001).minimize(loss) ### YOUR CODE HERE ### optimizer step that minimizes the loss"
   ]
  },
  {
   "cell_type": "markdown",
   "metadata": {},
   "source": [
    "# Submit the MLP with 2 hidden layers\n",
    "Run these cells after training the MLP with 2 hidden layers"
   ]
  },
  {
   "cell_type": "code",
   "execution_count": null,
   "metadata": {},
   "outputs": [],
   "source": [
    "## GRADED PART, DO NOT CHANGE!\n",
    "# Validation loss for MLP\n",
    "grader.set_answer(\"i8bgs\", s.run(loss, {input_X: X_val_flat, input_y: y_val_oh}))\n",
    "# Validation accuracy for MLP\n",
    "grader.set_answer(\"rE763\", accuracy_score(y_val, s.run(classes, {input_X: X_val_flat})))"
   ]
  },
  {
   "cell_type": "code",
   "execution_count": null,
   "metadata": {},
   "outputs": [],
   "source": [
    "# you can make submission with answers so far to check yourself at this stage\n",
    "grader.submit(COURSERA_EMAIL, COURSERA_TOKEN)"
   ]
  },
  {
   "cell_type": "code",
   "execution_count": null,
   "metadata": {},
   "outputs": [],
   "source": []
  }
 ],
 "metadata": {
  "kernelspec": {
   "display_name": "Python 3 rl",
   "language": "python",
   "name": "python3_rl"
  },
  "language_info": {
   "codemirror_mode": {
    "name": "ipython",
    "version": 3
   },
   "file_extension": ".py",
   "mimetype": "text/x-python",
   "name": "python",
   "nbconvert_exporter": "python",
   "pygments_lexer": "ipython3",
   "version": "3.6.6"
  }
 },
 "nbformat": 4,
 "nbformat_minor": 1
}
